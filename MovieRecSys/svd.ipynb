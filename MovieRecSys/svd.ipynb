{
 "cells": [
  {
   "attachments": {},
   "cell_type": "markdown",
   "metadata": {},
   "source": [
    "## Matrix Factorization: SVD"
   ]
  },
  {
   "cell_type": "code",
   "execution_count": 1,
   "metadata": {
    "collapsed": true
   },
   "outputs": [],
   "source": [
    "import math\n",
    "import numpy as np\n",
    "from numpy import linalg as LA\n",
    "from scipy.sparse import coo_matrix\n",
    "from scipy.linalg import sqrtm\n",
    "import pandas as pd\n",
    "from IPython.display import HTML, display"
   ]
  },
  {
   "cell_type": "code",
   "execution_count": 2,
   "metadata": {
    "collapsed": true
   },
   "outputs": [],
   "source": [
    "np.set_printoptions(precision=2)\n",
    "pd.set_option('display.precision', 2)"
   ]
  },
  {
   "attachments": {},
   "cell_type": "markdown",
   "metadata": {},
   "source": [
    "Read Movies and Define displayMovies"
   ]
  },
  {
   "cell_type": "code",
   "execution_count": 3,
   "metadata": {
    "collapsed": true
   },
   "outputs": [],
   "source": [
    "movies = pd.read_csv('data/movies_w_imgurl.csv')"
   ]
  },
  {
   "cell_type": "code",
   "execution_count": 4,
   "metadata": {
    "collapsed": true
   },
   "outputs": [],
   "source": [
    "def displayMovies(movieIds, ratings=[]):\n",
    "    i = 0\n",
    "    html = \"\"\n",
    "    for movieId in movieIds:\n",
    "        mov = movies[movies['movieId'] == movieId].iloc[0]        \n",
    "        html += \"<div style='display:inline-block;min-width:150px;max-width:150px;vertical-align: top;'>\"\n",
    "        html += \"<img src='%s' width='120'><br/>\" % mov.imgurl\n",
    "        if i < len(ratings):\n",
    "            html += \"<span>%.4f</span><br/>\" % ratings[i]\n",
    "        html += \"%s<br/>\" % mov.title\n",
    "        if mov.genres != '':\n",
    "            ul = \"<ul>\"\n",
    "            for genre in mov.genres.split('|'):\n",
    "                ul += \"<li>%s</li>\" % genre\n",
    "            ul += \"</ul>\"\n",
    "            html += \"%s<br/>\" % ul\n",
    "        html += \"</div>\"\n",
    "        i += 1\n",
    "    display(HTML(html))"
   ]
  },
  {
   "cell_type": "markdown",
   "metadata": {},
   "source": [
    "Read Rating Data"
   ]
  },
  {
   "cell_type": "code",
   "execution_count": 5,
   "metadata": {
    "collapsed": true
   },
   "outputs": [],
   "source": [
    "ratings = pd.read_csv('data/ratings-9_1.csv')\n",
    "train = ratings[ratings['type'] == 'train'][['userId', 'movieId', 'rating']]\n",
    "test = ratings[ratings['type'] == 'test'][['userId', 'movieId', 'rating']]"
   ]
  },
  {
   "attachments": {},
   "cell_type": "markdown",
   "metadata": {},
   "source": [
    "### Convert Ratings to User-Item Sparse Matrix\n",
    "Create Index to Id Maps"
   ]
  },
  {
   "cell_type": "code",
   "execution_count": 6,
   "metadata": {
    "collapsed": true
   },
   "outputs": [],
   "source": [
    "movieIdToIndex = {}\n",
    "indexToMovieId = {}\n",
    "colIdx = 0\n",
    "for movieId in movies.movieId:\n",
    "    movieIdToIndex[movieId] = colIdx\n",
    "    indexToMovieId[colIdx] = movieId\n",
    "    colIdx += 1"
   ]
  },
  {
   "cell_type": "code",
   "execution_count": 7,
   "metadata": {
    "collapsed": true
   },
   "outputs": [],
   "source": [
    "userIdToIndex = {}\n",
    "indexToUserId = {}\n",
    "rowIdx = 0\n",
    "for userId in ratings.userId.unique():\n",
    "    userIdToIndex[userId] = rowIdx\n",
    "    indexToUserId[rowIdx] = userId\n",
    "    rowIdx += 1"
   ]
  },
  {
   "attachments": {},
   "cell_type": "markdown",
   "metadata": {},
   "source": [
    "Create User-Item Sparse Matrix"
   ]
  },
  {
   "cell_type": "code",
   "execution_count": 8,
   "metadata": {
    "collapsed": true
   },
   "outputs": [],
   "source": [
    "rows = []\n",
    "cols = []\n",
    "vals = []\n",
    "for row in ratings.itertuples():\n",
    "    rows.append(userIdToIndex[row.userId])\n",
    "    cols.append(movieIdToIndex[row.movieId])\n",
    "    vals.append(row.rating)\n",
    "coomat = coo_matrix((vals, (rows, cols)), shape=(rowIdx, colIdx))"
   ]
  },
  {
   "attachments": {},
   "cell_type": "markdown",
   "metadata": {},
   "source": [
    "### Singular Value Decomposition"
   ]
  },
  {
   "cell_type": "code",
   "execution_count": 9,
   "metadata": {
    "collapsed": true
   },
   "outputs": [],
   "source": [
    "U, s, V = LA.svd(coomat.toarray(), full_matrices=False)"
   ]
  },
  {
   "attachments": {},
   "cell_type": "markdown",
   "metadata": {},
   "source": [
    "Define user and item feature matrix"
   ]
  },
  {
   "cell_type": "code",
   "execution_count": 10,
   "metadata": {},
   "outputs": [],
   "source": [
    "dim = 671\n",
    "sqrtS = sqrtm(np.matrix(np.diag(s[0:dim])))"
   ]
  },
  {
   "cell_type": "code",
   "execution_count": 11,
   "metadata": {
    "collapsed": true
   },
   "outputs": [],
   "source": [
    "userFeatures = np.matmul(U.compress(np.ones(dim), axis=1), sqrtS)\n",
    "itemFeatures = np.matmul(V.T.compress(np.ones(dim), axis=1), sqrtS.T)"
   ]
  },
  {
   "attachments": {},
   "cell_type": "markdown",
   "metadata": {},
   "source": [
    "Compute user and item similarity matrices"
   ]
  },
  {
   "cell_type": "code",
   "execution_count": 12,
   "metadata": {},
   "outputs": [],
   "source": [
    "itemNorms = LA.norm(itemFeatures, ord=2, axis=1)\n",
    "userNorms = LA.norm(userFeatures, ord=2, axis=1)"
   ]
  },
  {
   "cell_type": "code",
   "execution_count": 13,
   "metadata": {},
   "outputs": [
    {
     "name": "stderr",
     "output_type": "stream",
     "text": [
      "C:\\Users\\ROG ZEPHYRUS\\AppData\\Local\\Temp\\ipykernel_12144\\1693101613.py:1: RuntimeWarning: invalid value encountered in divide\n",
      "  normalizedItemFeatures = np.divide(itemFeatures.T, itemNorms).T\n"
     ]
    }
   ],
   "source": [
    "normalizedItemFeatures = np.divide(itemFeatures.T, itemNorms).T\n",
    "normalizedUserFeatures = np.divide(userFeatures.T, userNorms).T"
   ]
  },
  {
   "cell_type": "code",
   "execution_count": 14,
   "metadata": {},
   "outputs": [],
   "source": [
    "itemSims = pd.DataFrame(data=np.matmul(normalizedItemFeatures, normalizedItemFeatures.T), index=movies.movieId, columns=movies.movieId)\n",
    "userSims = np.matmul(normalizedUserFeatures, normalizedUserFeatures.T)"
   ]
  },
  {
   "attachments": {},
   "cell_type": "markdown",
   "metadata": {},
   "source": [
    "Example "
   ]
  },
  {
   "cell_type": "code",
   "execution_count": 15,
   "metadata": {},
   "outputs": [
    {
     "data": {
      "text/html": [
       "<div style='display:inline-block;min-width:150px;max-width:150px;vertical-align: top;'><img src='https://m.media-amazon.com/images/W/IMAGERENDERING_521856-T1/images/I/91JLCnVyAdL._SY445_.jpg' width='120'><br/>Tom and Huck (1995)<br/><ul><li>Adventure</li><li>Children</li></ul><br/></div>"
      ],
      "text/plain": [
       "<IPython.core.display.HTML object>"
      ]
     },
     "metadata": {},
     "output_type": "display_data"
    },
    {
     "data": {
      "text/html": [
       "<div style='display:inline-block;min-width:150px;max-width:150px;vertical-align: top;'><img src='https://m.media-amazon.com/images/W/IMAGERENDERING_521856-T1/images/I/91JLCnVyAdL._SY445_.jpg' width='120'><br/><span>1.0000</span><br/>Tom and Huck (1995)<br/><ul><li>Adventure</li><li>Children</li></ul><br/></div><div style='display:inline-block;min-width:150px;max-width:150px;vertical-align: top;'><img src='https://images-na.ssl-images-amazon.com/images/M/MV5BMTczMTMyMTgyM15BMl5BanBnXkFtZTcwOTc4OTQyMQ@@._V1_UY268_CR4,0,182,268_AL_.jpg' width='120'><br/><span>0.5302</span><br/>Waiting to Exhale (1995)<br/><ul><li>Comedy</li><li>Drama</li><li>Romance</li></ul><br/></div><div style='display:inline-block;min-width:150px;max-width:150px;vertical-align: top;'><img src='https://images-na.ssl-images-amazon.com/images/M/MV5BZDAyNzZkOTgtNjE3OS00ZDdlLTgxMzQtYzJhYWViNDk2YzFjL2ltYWdlXkEyXkFqcGdeQXVyNjg4NzYzMzA@._V1_UX182_CR0,0,182,268_AL_.jpg' width='120'><br/><span>0.5164</span><br/>Baby-Sitters Club, The (1995)<br/><ul><li>Children</li></ul><br/></div><div style='display:inline-block;min-width:150px;max-width:150px;vertical-align: top;'><img src='https://images-na.ssl-images-amazon.com/images/M/MV5BMTYzMTYxODc2N15BMl5BanBnXkFtZTcwMTMzNjAwMQ@@._V1_UY268_CR7,0,182,268_AL_.jpg' width='120'><br/><span>0.5164</span><br/>Three Wishes (1995)<br/><ul><li>Drama</li><li>Fantasy</li></ul><br/></div><div style='display:inline-block;min-width:150px;max-width:150px;vertical-align: top;'><img src='https://images-na.ssl-images-amazon.com/images/M/MV5BMTc3MDg1ODU4MF5BMl5BanBnXkFtZTcwNjQwMzkxMQ@@._V1_UY268_CR2,0,182,268_AL_.jpg' width='120'><br/><span>0.5164</span><br/>Gordy (1995)<br/><ul><li>Children</li><li>Comedy</li><li>Fantasy</li></ul><br/></div><div style='display:inline-block;min-width:150px;max-width:150px;vertical-align: top;'><img src='https://images-na.ssl-images-amazon.com/images/M/MV5BNDM2OGM1MjAtYjA3Zi00NzEzLWFiOWMtYjg4MDdiMzYzMWVkL2ltYWdlL2ltYWdlXkEyXkFqcGdeQXVyNDA5Mjg5MjA@._V1_UY268_CR3,0,182,268_AL_.jpg' width='120'><br/><span>0.4762</span><br/>Swan Princess, The (1994)<br/><ul><li>Animation</li><li>Children</li></ul><br/></div>"
      ],
      "text/plain": [
       "<IPython.core.display.HTML object>"
      ]
     },
     "metadata": {},
     "output_type": "display_data"
    }
   ],
   "source": [
    "movieIdx = 7\n",
    "rels = itemSims.iloc[movieIdx,:].sort_values(ascending=False).head(6)\n",
    "displayMovies([indexToMovieId[movieIdx]])\n",
    "displayMovies(rels.index, rels.values)"
   ]
  }
 ],
 "metadata": {
  "kernelspec": {
   "display_name": "Python 3",
   "language": "python",
   "name": "python3"
  },
  "language_info": {
   "codemirror_mode": {
    "name": "ipython",
    "version": 3
   },
   "file_extension": ".py",
   "mimetype": "text/x-python",
   "name": "python",
   "nbconvert_exporter": "python",
   "pygments_lexer": "ipython3",
   "version": "3.10.5"
  }
 },
 "nbformat": 4,
 "nbformat_minor": 2
}
