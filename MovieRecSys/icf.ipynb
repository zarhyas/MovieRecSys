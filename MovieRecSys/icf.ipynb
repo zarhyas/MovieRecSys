{
 "cells": [
  {
   "cell_type": "markdown",
   "metadata": {},
   "source": [
    "# Item-based Collaborative Filtering"
   ]
  },
  {
   "cell_type": "code",
   "execution_count": 1,
   "metadata": {},
   "outputs": [],
   "source": [
    "import math\n",
    "import numpy as np\n",
    "from numpy import linalg as LA\n",
    "from scipy.sparse import coo_matrix\n",
    "import pandas as pd\n",
    "from IPython.display import HTML, display"
   ]
  },
  {
   "cell_type": "code",
   "execution_count": 2,
   "metadata": {},
   "outputs": [],
   "source": [
    "import sys\n",
    "sys.path.append('scripts')\n",
    "%run \"./scripts/liblecture.py\"\n",
    "from liblecture import displayMovies"
   ]
  },
  {
   "cell_type": "markdown",
   "metadata": {},
   "source": [
    "Read Movies"
   ]
  },
  {
   "cell_type": "code",
   "execution_count": 3,
   "metadata": {},
   "outputs": [],
   "source": [
    "movies = pd.read_csv('data/movies_w_imgurl.csv')"
   ]
  },
  {
   "cell_type": "markdown",
   "metadata": {},
   "source": [
    "Read Rating Data"
   ]
  },
  {
   "cell_type": "code",
   "execution_count": 4,
   "metadata": {},
   "outputs": [],
   "source": [
    "ratings = pd.read_csv('data/ratings-9_1.csv')\n",
    "train = ratings[ratings['type'] == 'train'][['userId', 'movieId', 'rating']]\n",
    "test = ratings[ratings['type'] == 'test'][['userId', 'movieId', 'rating']]"
   ]
  },
  {
   "cell_type": "markdown",
   "metadata": {},
   "source": [
    "## Convert Ratings to Item-User Sparse Matrix\n",
    "### Create Index to Id Maps"
   ]
  },
  {
   "cell_type": "code",
   "execution_count": 5,
   "metadata": {},
   "outputs": [],
   "source": [
    "movieIdToIndex = {}\n",
    "indexToMovieId = {}\n",
    "rowIdx = 0\n",
    "for movieId in movies.movieId:\n",
    "    movieIdToIndex[movieId] = rowIdx\n",
    "    indexToMovieId[rowIdx] = movieId\n",
    "    rowIdx += 1"
   ]
  },
  {
   "cell_type": "code",
   "execution_count": 6,
   "metadata": {},
   "outputs": [],
   "source": [
    "userIdToIndex = {}\n",
    "indexToUserId = {}\n",
    "colIdx = 0\n",
    "for userId in ratings.userId.unique():\n",
    "    userIdToIndex[userId] = colIdx\n",
    "    indexToUserId[colIdx] = userId\n",
    "    colIdx += 1"
   ]
  },
  {
   "attachments": {},
   "cell_type": "markdown",
   "metadata": {},
   "source": [
    "### Create Item-User Sparse Matrix"
   ]
  },
  {
   "cell_type": "code",
   "execution_count": 7,
   "metadata": {},
   "outputs": [],
   "source": [
    "rows = []\n",
    "cols = []\n",
    "vals = []\n",
    "for row in ratings.itertuples():\n",
    "    rows.append(movieIdToIndex[row.movieId])\n",
    "    cols.append(userIdToIndex[row.userId])\n",
    "    vals.append(row.rating)\n",
    "coomat = coo_matrix((vals, (rows, cols)), shape=(rowIdx, colIdx))"
   ]
  },
  {
   "cell_type": "markdown",
   "metadata": {},
   "source": [
    "## Compute Item-Item Similarities"
   ]
  },
  {
   "cell_type": "markdown",
   "metadata": {},
   "source": [
    "Compute $l_2$-norm"
   ]
  },
  {
   "cell_type": "code",
   "execution_count": 8,
   "metadata": {},
   "outputs": [],
   "source": [
    "norms = LA.norm(coomat.toarray(), ord=2, axis=1)"
   ]
  },
  {
   "cell_type": "markdown",
   "metadata": {},
   "source": [
    "Normalize Row Vectors"
   ]
  },
  {
   "cell_type": "code",
   "execution_count": 9,
   "metadata": {},
   "outputs": [],
   "source": [
    "np.seterr(divide='ignore', invalid='ignore')\n",
    "normmat = np.divide(coomat.transpose().toarray(), norms).T"
   ]
  },
  {
   "cell_type": "code",
   "execution_count": 10,
   "metadata": {},
   "outputs": [
    {
     "data": {
      "text/plain": [
       "array([[0.  , 0.  , 0.  , ..., 0.  , 0.06, 0.08],\n",
       "       [0.  , 0.  , 0.  , ..., 0.  , 0.  , 0.  ],\n",
       "       [0.  , 0.  , 0.  , ..., 0.  , 0.  , 0.  ],\n",
       "       ...,\n",
       "       [0.  , 0.  , 0.  , ..., 0.  , 0.  , 0.  ],\n",
       "       [0.  , 0.  , 0.  , ..., 0.  , 0.  , 0.  ],\n",
       "       [0.  , 0.  , 0.  , ..., 0.  , 0.  , 0.  ]])"
      ]
     },
     "execution_count": 10,
     "metadata": {},
     "output_type": "execute_result"
    }
   ],
   "source": [
    "np.nan_to_num(normmat, 0.0)"
   ]
  },
  {
   "cell_type": "markdown",
   "metadata": {},
   "source": [
    "Compute Similarities ( = inner product)"
   ]
  },
  {
   "cell_type": "code",
   "execution_count": 11,
   "metadata": {},
   "outputs": [],
   "source": [
    "sims = pd.DataFrame(data=np.matmul(normmat, normmat.T), index=movies.movieId, columns=movies.movieId)"
   ]
  },
  {
   "cell_type": "markdown",
   "metadata": {},
   "source": [
    "### Similarity Example"
   ]
  },
  {
   "cell_type": "code",
   "execution_count": 12,
   "metadata": {},
   "outputs": [
    {
     "data": {
      "text/html": [
       "\n",
       "            <div style=\"display:inline-block;min-width:150px;max-width:150px;vertical-align: top;\">\n",
       "                <img src=\"https://m.media-amazon.com/images/W/IMAGERENDERING_521856-T1/images/I/91JLCnVyAdL._SY445_.jpg\" width=\"120\"><br/>\n",
       "        Tom and Huck (1995)<br/><ul><li>Adventure</li><li>Children</li></ul><br/></div>"
      ],
      "text/plain": [
       "<IPython.core.display.HTML object>"
      ]
     },
     "metadata": {},
     "output_type": "display_data"
    },
    {
     "data": {
      "text/html": [
       "\n",
       "            <div style=\"display:inline-block;min-width:150px;max-width:150px;vertical-align: top;\">\n",
       "                <img src=\"https://m.media-amazon.com/images/W/IMAGERENDERING_521856-T1/images/I/91JLCnVyAdL._SY445_.jpg\" width=\"120\"><br/>\n",
       "        <span>1.0000</span><br/>Tom and Huck (1995)<br/><ul><li>Adventure</li><li>Children</li></ul><br/></div>\n",
       "            <div style=\"display:inline-block;min-width:150px;max-width:150px;vertical-align: top;\">\n",
       "                <img src=\"https://images-na.ssl-images-amazon.com/images/M/MV5BZDAyNzZkOTgtNjE3OS00ZDdlLTgxMzQtYzJhYWViNDk2YzFjL2ltYWdlXkEyXkFqcGdeQXVyNjg4NzYzMzA@._V1_UX182_CR0,0,182,268_AL_.jpg\" width=\"120\"><br/>\n",
       "        <span>0.5488</span><br/>Baby-Sitters Club, The (1995)<br/><ul><li>Children</li></ul><br/></div>\n",
       "            <div style=\"display:inline-block;min-width:150px;max-width:150px;vertical-align: top;\">\n",
       "                <img src=\"https://images-na.ssl-images-amazon.com/images/M/MV5BMTc3MDg1ODU4MF5BMl5BanBnXkFtZTcwNjQwMzkxMQ@@._V1_UY268_CR2,0,182,268_AL_.jpg\" width=\"120\"><br/>\n",
       "        <span>0.5488</span><br/>Gordy (1995)<br/><ul><li>Children</li><li>Comedy</li><li>Fantasy</li></ul><br/></div>\n",
       "            <div style=\"display:inline-block;min-width:150px;max-width:150px;vertical-align: top;\">\n",
       "                <img src=\"https://images-na.ssl-images-amazon.com/images/M/MV5BMTYzMTYxODc2N15BMl5BanBnXkFtZTcwMTMzNjAwMQ@@._V1_UY268_CR7,0,182,268_AL_.jpg\" width=\"120\"><br/>\n",
       "        <span>0.5488</span><br/>Three Wishes (1995)<br/><ul><li>Drama</li><li>Fantasy</li></ul><br/></div>\n",
       "            <div style=\"display:inline-block;min-width:150px;max-width:150px;vertical-align: top;\">\n",
       "                <img src=\"https://images-na.ssl-images-amazon.com/images/M/MV5BMTczMTMyMTgyM15BMl5BanBnXkFtZTcwOTc4OTQyMQ@@._V1_UY268_CR4,0,182,268_AL_.jpg\" width=\"120\"><br/>\n",
       "        <span>0.5015</span><br/>Waiting to Exhale (1995)<br/><ul><li>Comedy</li><li>Drama</li><li>Romance</li></ul><br/></div>\n",
       "            <div style=\"display:inline-block;min-width:150px;max-width:150px;vertical-align: top;\">\n",
       "                <img src=\"https://images-na.ssl-images-amazon.com/images/M/MV5BNDM2OGM1MjAtYjA3Zi00NzEzLWFiOWMtYjg4MDdiMzYzMWVkL2ltYWdlL2ltYWdlXkEyXkFqcGdeQXVyNDA5Mjg5MjA@._V1_UY268_CR3,0,182,268_AL_.jpg\" width=\"120\"><br/>\n",
       "        <span>0.4978</span><br/>Swan Princess, The (1994)<br/><ul><li>Animation</li><li>Children</li></ul><br/></div>"
      ],
      "text/plain": [
       "<IPython.core.display.HTML object>"
      ]
     },
     "metadata": {},
     "output_type": "display_data"
    }
   ],
   "source": [
    "movieIdx = 7\n",
    "rels = sims.iloc[movieIdx,:].sort_values(ascending=False).head(6)\n",
    "displayMovies(movies, [indexToMovieId[movieIdx]])\n",
    "displayMovies(movies, rels.index, rels.values)"
   ]
  },
  {
   "cell_type": "markdown",
   "metadata": {},
   "source": [
    "## User Rating Prediction"
   ]
  },
  {
   "cell_type": "code",
   "execution_count": 13,
   "metadata": {},
   "outputs": [],
   "source": [
    "userId = 33\n",
    "userRatings = train[train['userId'] == userId][['movieId', 'rating']]"
   ]
  },
  {
   "cell_type": "markdown",
   "metadata": {},
   "source": [
    "### Predict Ratings"
   ]
  },
  {
   "cell_type": "code",
   "execution_count": 14,
   "metadata": {},
   "outputs": [],
   "source": [
    "recSimSums = sims.loc[userRatings['movieId'].values, :].sum().values\n",
    "recWeightedRatingSums = np.matmul(sims.loc[userRatings['movieId'].values, :].T.values, userRatings['rating'].values)\n",
    "recItemRatings = pd.DataFrame(data=np.divide(recWeightedRatingSums, recSimSums), index=sims.index)\n",
    "recItemRatings.columns = ['prediction']"
   ]
  },
  {
   "cell_type": "markdown",
   "metadata": {},
   "source": [
    "### Compute Errors (MAE, RMSE)"
   ]
  },
  {
   "cell_type": "code",
   "execution_count": 15,
   "metadata": {},
   "outputs": [
    {
     "name": "stdout",
     "output_type": "stream",
     "text": [
      "#5:\n",
      " MAE: 0.7494379231991625\n",
      "\n",
      "\n",
      "#6:\n",
      "RMSE: 0.8521098359089231\n",
      "\n",
      "\n"
     ]
    }
   ],
   "source": [
    "userTestRatings = pd.DataFrame(data=test[test['userId'] == userId])\n",
    "temp = userTestRatings.join(recItemRatings.loc[userTestRatings['movieId']], on='movieId')\n",
    "mae = (temp['rating'] - temp['prediction']).abs().mean()\n",
    "rmse = math.sqrt((temp['rating'] - temp['prediction']).pow(2).mean())\n",
    "print(\" MAE:\", mae)\n",
    "print(\"RMSE:\", rmse)"
   ]
  },
  {
   "cell_type": "markdown",
   "metadata": {},
   "source": [
    "### Compare Logs and Recommendations"
   ]
  },
  {
   "cell_type": "code",
   "execution_count": 16,
   "metadata": {},
   "outputs": [],
   "source": [
    "logs = userRatings.sort_values(by='rating', ascending=False).head(20)\n",
    "recs = recItemRatings.sort_values(by='prediction', ascending=False).head(20)"
   ]
  },
  {
   "cell_type": "code",
   "execution_count": 17,
   "metadata": {},
   "outputs": [
    {
     "data": {
      "text/html": [
       "\n",
       "            <div style=\"display:inline-block;min-width:150px;max-width:150px;vertical-align: top;\">\n",
       "                <img src=\"https://images-na.ssl-images-amazon.com/images/M/MV5BYmE1OTY4NjgtYjcwNC00NWE4LWJiNGMtZmVhYTdlMWE1YzIxXkEyXkFqcGdeQXVyMTMxODk2OTU@._V1_UX182_CR0,0,182,268_AL_.jpg\" width=\"120\"><br/>\n",
       "        <span>5.0000</span><br/>Punch-Drunk Love (2002)<br/><ul><li>Comedy</li><li>Drama</li><li>Romance</li></ul><br/></div>\n",
       "            <div style=\"display:inline-block;min-width:150px;max-width:150px;vertical-align: top;\">\n",
       "                <img src=\"https://images-na.ssl-images-amazon.com/images/M/MV5BNDllYWVkOTQtZjRlMC00NWFjLWI0OGEtOWY4YzU4ZjMxYzg3XkEyXkFqcGdeQXVyMTQxNzMzNDI@._V1_UX182_CR0,0,182,268_AL_.jpg\" width=\"120\"><br/>\n",
       "        <span>5.0000</span><br/>Sex, Lies, and Videotape (1989)<br/><ul><li>Drama</li></ul><br/></div>\n",
       "            <div style=\"display:inline-block;min-width:150px;max-width:150px;vertical-align: top;\">\n",
       "                <img src=\"https://images-na.ssl-images-amazon.com/images/M/MV5BMjIwOWVkNzMtZTIyZC00ZWM0LTg5MWYtMWYwYjVhZTM3MDMzXkEyXkFqcGdeQXVyNTI4MjkwNjA@._V1_UX182_CR0,0,182,268_AL_.jpg\" width=\"120\"><br/>\n",
       "        <span>5.0000</span><br/>Uncle Buck (1989)<br/><ul><li>Comedy</li></ul><br/></div>\n",
       "            <div style=\"display:inline-block;min-width:150px;max-width:150px;vertical-align: top;\">\n",
       "                <img src=\"https://images-na.ssl-images-amazon.com/images/M/MV5BOTA5MzQ3MzI1NV5BMl5BanBnXkFtZTgwNTcxNTYxMTE@._V1_UX182_CR0,0,182,268_AL_.jpg\" width=\"120\"><br/>\n",
       "        <span>5.0000</span><br/>Office Space (1999)<br/><ul><li>Comedy</li><li>Crime</li></ul><br/></div>\n",
       "            <div style=\"display:inline-block;min-width:150px;max-width:150px;vertical-align: top;\">\n",
       "                <img src=\"https://cdn.shopify.com/s/files/1/1416/8662/products/Poltergeist_1982_french_original_film_art_5000x.jpg?v=1617374883\" width=\"120\"><br/>\n",
       "        <span>5.0000</span><br/>Poltergeist (1982)<br/><ul><li>Horror</li><li>Thriller</li></ul><br/></div>\n",
       "            <div style=\"display:inline-block;min-width:150px;max-width:150px;vertical-align: top;\">\n",
       "                <img src=\"https://images-na.ssl-images-amazon.com/images/M/MV5BMjMxMDFhYzQtZDZmZS00ZDBjLWIzY2QtNDBiMDQ5YjBlNTk1XkEyXkFqcGdeQXVyNTAyODkwOQ@@._V1_UX182_CR0,0,182,268_AL_.jpg\" width=\"120\"><br/>\n",
       "        <span>5.0000</span><br/>American Movie (1999)<br/><ul><li>Documentary</li></ul><br/></div>\n",
       "            <div style=\"display:inline-block;min-width:150px;max-width:150px;vertical-align: top;\">\n",
       "                <img src=\"https://images-na.ssl-images-amazon.com/images/M/MV5BODUxODhmZmQtNzMxOC00OWJkLThjNDYtN2E5MDRjMmIyZDFiXkEyXkFqcGdeQXVyNTUyMzE4Mzg@._V1_UX182_CR0,0,182,268_AL_.jpg\" width=\"120\"><br/>\n",
       "        <span>5.0000</span><br/>Caddyshack II (1988)<br/><ul><li>Comedy</li></ul><br/></div>\n",
       "            <div style=\"display:inline-block;min-width:150px;max-width:150px;vertical-align: top;\">\n",
       "                <img src=\"https://upload.wikimedia.org/wikipedia/en/4/49/Bullyposter.jpg\" width=\"120\"><br/>\n",
       "        <span>5.0000</span><br/>Bully (2001)<br/><ul><li>Crime</li><li>Drama</li><li>Thriller</li></ul><br/></div>\n",
       "            <div style=\"display:inline-block;min-width:150px;max-width:150px;vertical-align: top;\">\n",
       "                <img src=\"https://images-na.ssl-images-amazon.com/images/M/MV5BZWFlYmY2MGEtZjVkYS00YzU4LTg0YjQtYzY1ZGE3NTA5NGQxXkEyXkFqcGdeQXVyMTQxNzMzNDI@._V1_UX182_CR0,0,182,268_AL_.jpg\" width=\"120\"><br/>\n",
       "        <span>5.0000</span><br/>Shining, The (1980)<br/><ul><li>Horror</li></ul><br/></div>\n",
       "            <div style=\"display:inline-block;min-width:150px;max-width:150px;vertical-align: top;\">\n",
       "                <img src=\"https://images-na.ssl-images-amazon.com/images/M/MV5BMTQ5OTc0NDU1MF5BMl5BanBnXkFtZTYwNzk1OTI3._V1_UX182_CR0,0,182,268_AL_.jpg\" width=\"120\"><br/>\n",
       "        <span>5.0000</span><br/>Best in Show (2000)<br/><ul><li>Comedy</li></ul><br/></div>\n",
       "            <div style=\"display:inline-block;min-width:150px;max-width:150px;vertical-align: top;\">\n",
       "                <img src=\"https://images-na.ssl-images-amazon.com/images/M/MV5BNTc5Mzc3Njc4M15BMl5BanBnXkFtZTYwODg1MTA5._V1_UY268_CR4,0,182,268_AL_.jpg\" width=\"120\"><br/>\n",
       "        <span>4.0000</span><br/>Chopper (2000)<br/><ul><li>Drama</li><li>Thriller</li></ul><br/></div>\n",
       "            <div style=\"display:inline-block;min-width:150px;max-width:150px;vertical-align: top;\">\n",
       "                <img src=\"https://images-na.ssl-images-amazon.com/images/M/MV5BOGI0ODZhMDYtYjNhYy00MjZlLWFiMzQtMTdkYjM3MWM4YWRkXkEyXkFqcGdeQXVyNjE5MjUyOTM@._V1_UX182_CR0,0,182,268_AL_.jpg\" width=\"120\"><br/>\n",
       "        <span>4.0000</span><br/>Throw Momma from the Train (1987)<br/><ul><li>Comedy</li><li>Crime</li></ul><br/></div>\n",
       "            <div style=\"display:inline-block;min-width:150px;max-width:150px;vertical-align: top;\">\n",
       "                <img src=\"https://images-na.ssl-images-amazon.com/images/M/MV5BYTg5YmVhN2MtMTM0Ni00YThkLTgyMDctNmY1NmVhZGUyNGQ3XkEyXkFqcGdeQXVyMTQxNzMzNDI@._V1_UX182_CR0,0,182,268_AL_.jpg\" width=\"120\"><br/>\n",
       "        <span>4.0000</span><br/>Fletch (1985)<br/><ul><li>Comedy</li><li>Crime</li><li>Mystery</li></ul><br/></div>\n",
       "            <div style=\"display:inline-block;min-width:150px;max-width:150px;vertical-align: top;\">\n",
       "                <img src=\"https://images-na.ssl-images-amazon.com/images/M/MV5BMTc4MzQ2NDQ5N15BMl5BanBnXkFtZTcwOTMzNTcxMQ@@._V1_UY268_CR0,0,182,268_AL_.jpg\" width=\"120\"><br/>\n",
       "        <span>4.0000</span><br/>Tao of Steve, The (2000)<br/><ul><li>Comedy</li></ul><br/></div>\n",
       "            <div style=\"display:inline-block;min-width:150px;max-width:150px;vertical-align: top;\">\n",
       "                <img src=\"https://images-na.ssl-images-amazon.com/images/M/MV5BZjNlMTQ1MzQtMjNjNS00MWY4LTgxZTgtM2M5NThkMDg4N2ViXkEyXkFqcGdeQXVyMTQxNzMzNDI@._V1_UX182_CR0,0,182,268_AL_.jpg\" width=\"120\"><br/>\n",
       "        <span>4.0000</span><br/>Crocodile Dundee (1986)<br/><ul><li>Adventure</li><li>Comedy</li></ul><br/></div>\n",
       "            <div style=\"display:inline-block;min-width:150px;max-width:150px;vertical-align: top;\">\n",
       "                <img src=\"https://upload.wikimedia.org/wikipedia/en/6/69/Grooveposter.jpg\" width=\"120\"><br/>\n",
       "        <span>4.0000</span><br/>Emperor's New Groove, The (2000)<br/><ul><li>Adventure</li><li>Animation</li><li>Children</li><li>Comedy</li><li>Fantasy</li></ul><br/></div>\n",
       "            <div style=\"display:inline-block;min-width:150px;max-width:150px;vertical-align: top;\">\n",
       "                <img src=\"https://images-na.ssl-images-amazon.com/images/M/MV5BODQ1YWFmNDEtMDMyMi00OWU5LWIwMDktYjE1YjcwZjBlNDBlXkEyXkFqcGdeQXVyNjQ2MjQ5NzM@._V1_UX182_CR0,0,182,268_AL_.jpg\" width=\"120\"><br/>\n",
       "        <span>4.0000</span><br/>See No Evil, Hear No Evil (1989)<br/><ul><li>Comedy</li><li>Crime</li></ul><br/></div>\n",
       "            <div style=\"display:inline-block;min-width:150px;max-width:150px;vertical-align: top;\">\n",
       "                <img src=\"https://images-na.ssl-images-amazon.com/images/M/MV5BMGZlNDUyYWQtYTVjNS00MDQ3LTljYmUtZGE0NDgxZjg4ZmVkXkEyXkFqcGdeQXVyNjU0NTI0Nw@@._V1_UX182_CR0,0,182,268_AL_.jpg\" width=\"120\"><br/>\n",
       "        <span>4.0000</span><br/>Cruel Intentions (1999)<br/><ul><li>Drama</li></ul><br/></div>\n",
       "            <div style=\"display:inline-block;min-width:150px;max-width:150px;vertical-align: top;\">\n",
       "                <img src=\"https://images-na.ssl-images-amazon.com/images/M/MV5BYjViYWQ4NjAtZmUzNy00Nzg5LWJkMzctMTgwOTRhNjdjYWI3XkEyXkFqcGdeQXVyMTQxNzMzNDI@._V1_UX182_CR0,0,182,268_AL_.jpg\" width=\"120\"><br/>\n",
       "        <span>4.0000</span><br/>Election (1999)<br/><ul><li>Comedy</li></ul><br/></div>\n",
       "            <div style=\"display:inline-block;min-width:150px;max-width:150px;vertical-align: top;\">\n",
       "                <img src=\"https://images-na.ssl-images-amazon.com/images/M/MV5BOTExNWU2ZGQtNGJkOC00ZTM3LWFlZmYtMjkwZTg0YzQ4ZTM0XkEyXkFqcGdeQXVyMTQxNzMzNDI@._V1_UX182_CR0,0,182,268_AL_.jpg\" width=\"120\"><br/>\n",
       "        <span>4.0000</span><br/>Return of Swamp Thing, The (1989)<br/><ul><li>Comedy</li><li>Horror</li><li>Sci-Fi</li></ul><br/></div>"
      ],
      "text/plain": [
       "<IPython.core.display.HTML object>"
      ]
     },
     "metadata": {},
     "output_type": "display_data"
    },
    {
     "data": {
      "text/html": [
       "\n",
       "            <div style=\"display:inline-block;min-width:150px;max-width:150px;vertical-align: top;\">\n",
       "                <img src=\"https://images-na.ssl-images-amazon.com/images/M/MV5BMTQ0NDk4NjI5OF5BMl5BanBnXkFtZTcwNTg1NzgyMQ@@._V1_UY268_CR1,0,182,268_AL_.jpg\" width=\"120\"><br/>\n",
       "        <span>4.4017</span><br/>Kirikou and the Sorceress (Kirikou et la sorcière) (1998)<br/><ul><li>Adventure</li><li>Animation</li><li>Children</li><li>Fantasy</li></ul><br/></div>\n",
       "            <div style=\"display:inline-block;min-width:150px;max-width:150px;vertical-align: top;\">\n",
       "                <img src=\"https://upload.wikimedia.org/wikipedia/en/9/9c/%C5%8Ckami_Kodomo_no_Ame_to_Yuki_poster.jpg\" width=\"120\"><br/>\n",
       "        <span>4.0889</span><br/>Wolf Children (Okami kodomo no ame to yuki) (2012)<br/><ul><li>Animation</li><li>Fantasy</li></ul><br/></div>\n",
       "            <div style=\"display:inline-block;min-width:150px;max-width:150px;vertical-align: top;\">\n",
       "                <img src=\"https://images-na.ssl-images-amazon.com/images/M/MV5BYzgwZDcyMGQtMzdlYy00NjQ1LWI2M2EtZTQxZDVmNWMwZDU1XkEyXkFqcGdeQXVyNjc1NTYyMjg@._V1_UX182_CR0,0,182,268_AL_.jpg\" width=\"120\"><br/>\n",
       "        <span>4.0889</span><br/>Drunken Angel (Yoidore tenshi) (1948)<br/><ul><li>Drama</li><li>Film-Noir</li></ul><br/></div>\n",
       "            <div style=\"display:inline-block;min-width:150px;max-width:150px;vertical-align: top;\">\n",
       "                <img src=\"https://images-na.ssl-images-amazon.com/images/M/MV5BMTcyNTA2OTQxMF5BMl5BanBnXkFtZTcwMDkxMDQ0Mg@@._V1._CR38,56,300,409_UY268_CR7,0,182,268_AL_.jpg\" width=\"120\"><br/>\n",
       "        <span>4.0889</span><br/>Sword of the Stranger (Sutorejia: Mukô hadan) (2007)<br/><ul><li>Action</li><li>Adventure</li><li>Animation</li></ul><br/></div>\n",
       "            <div style=\"display:inline-block;min-width:150px;max-width:150px;vertical-align: top;\">\n",
       "                <img src=\"https://images-na.ssl-images-amazon.com/images/M/MV5BMTQyODc3NDc1Ml5BMl5BanBnXkFtZTcwNTA5MTM1Mg@@._V1_UY268_CR4,0,182,268_AL_.jpg\" width=\"120\"><br/>\n",
       "        <span>4.0889</span><br/>Human Condition I, The (Ningen no joken I) (1959)<br/><ul><li>Drama</li><li>War</li></ul><br/></div>\n",
       "            <div style=\"display:inline-block;min-width:150px;max-width:150px;vertical-align: top;\">\n",
       "                <img src=\"https://images-na.ssl-images-amazon.com/images/M/MV5BMjAzMDM0Nzg3OV5BMl5BanBnXkFtZTcwNzMxOTI1MQ@@._V1_UX182_CR0,0,182,268_AL_.jpg\" width=\"120\"><br/>\n",
       "        <span>4.0210</span><br/>Tyler Perry's Why Did I Get Married? (2007)<br/><ul><li>Comedy</li><li>Drama</li></ul><br/></div>\n",
       "            <div style=\"display:inline-block;min-width:150px;max-width:150px;vertical-align: top;\">\n",
       "                <img src=\"https://upload.wikimedia.org/wikipedia/en/a/a6/Darfur_now_poster.jpg\" width=\"120\"><br/>\n",
       "        <span>4.0210</span><br/>Darfur Now (2007)<br/><ul><li>Documentary</li></ul><br/></div>\n",
       "            <div style=\"display:inline-block;min-width:150px;max-width:150px;vertical-align: top;\">\n",
       "                <img src=\"https://images-na.ssl-images-amazon.com/images/M/MV5BM2RmMmQ4M2MtNzM1Ni00MWZlLTg0MGMtZTk5YTU2ZGIxMDM4XkEyXkFqcGdeQXVyMTQxNzMzNDI@._V1_UX182_CR0,0,182,268_AL_.jpg\" width=\"120\"><br/>\n",
       "        <span>4.0210</span><br/>Now You See Him, Now You Don't (1972)<br/><ul><li>Comedy</li><li>Sci-Fi</li></ul><br/></div>\n",
       "            <div style=\"display:inline-block;min-width:150px;max-width:150px;vertical-align: top;\">\n",
       "                <img src=\"https://images-na.ssl-images-amazon.com/images/M/MV5BNDQxMzA1Mjk5MF5BMl5BanBnXkFtZTcwMTM5NjEzMQ@@._V1_UX182_CR0,0,182,268_AL_.jpg\" width=\"120\"><br/>\n",
       "        <span>4.0121</span><br/>Annapolis (2006)<br/><ul><li>Drama</li></ul><br/></div>\n",
       "            <div style=\"display:inline-block;min-width:150px;max-width:150px;vertical-align: top;\">\n",
       "                <img src=\"https://images-na.ssl-images-amazon.com/images/M/MV5BMTM3OTE4NTg3MV5BMl5BanBnXkFtZTcwMTE4MDIyMQ@@._V1_UX182_CR0,0,182,268_AL_.jpg\" width=\"120\"><br/>\n",
       "        <span>4.0000</span><br/>Seventh Heaven (Septième ciel, Le) (1997)<br/><ul><li>Drama</li><li>Romance</li></ul><br/></div>\n",
       "            <div style=\"display:inline-block;min-width:150px;max-width:150px;vertical-align: top;\">\n",
       "                <img src=\"https://images-na.ssl-images-amazon.com/images/M/MV5BZWI1M2Y4NjQtMzU2ZS00ZDQ0LTllNzgtMzQ3NmY3ZTg0YzU1XkEyXkFqcGdeQXVyMTYxNjkxOQ@@._V1_UY268_CR2,0,182,268_AL_.jpg\" width=\"120\"><br/>\n",
       "        <span>4.0000</span><br/>Tarzan, the Ape Man (1981)<br/><ul><li>Adventure</li></ul><br/></div>\n",
       "            <div style=\"display:inline-block;min-width:150px;max-width:150px;vertical-align: top;\">\n",
       "                <img src=\"https://images-na.ssl-images-amazon.com/images/M/MV5BMTU2ZTJmYWYtZjcwYi00MGZkLWJkNjgtNGMwMTMyYmYwZjg2XkEyXkFqcGdeQXVyMTEwODg2MDY@._V1_UX182_CR0,0,182,268_AL_.jpg\" width=\"120\"><br/>\n",
       "        <span>4.0000</span><br/>Fraternity Vacation (1985)<br/><ul><li>Comedy</li><li>Romance</li></ul><br/></div>\n",
       "            <div style=\"display:inline-block;min-width:150px;max-width:150px;vertical-align: top;\">\n",
       "                <img src=\"https://images-na.ssl-images-amazon.com/images/M/MV5BNDI5MzczMzU4N15BMl5BanBnXkFtZTcwNjEzNzAyMQ@@._V1_UX182_CR0,0,182,268_AL_.jpg\" width=\"120\"><br/>\n",
       "        <span>4.0000</span><br/>Storefront Hitchcock (1997)<br/><ul><li>Documentary</li><li>Musical</li></ul><br/></div>\n",
       "            <div style=\"display:inline-block;min-width:150px;max-width:150px;vertical-align: top;\">\n",
       "                <img src=\"https://images-na.ssl-images-amazon.com/images/M/MV5BZTA3ZjIxN2EtMDAzOS00NmY5LTg5M2YtM2FjZjMwMWFmNjY2L2ltYWdlXkEyXkFqcGdeQXVyMjU5OTg5NDc@._V1_UX182_CR0,0,182,268_AL_.jpg\" width=\"120\"><br/>\n",
       "        <span>4.0000</span><br/>Follow Me, Boys! (1966)<br/><ul><li>Comedy</li><li>Drama</li></ul><br/></div>\n",
       "            <div style=\"display:inline-block;min-width:150px;max-width:150px;vertical-align: top;\">\n",
       "                <img src=\"https://images-na.ssl-images-amazon.com/images/M/MV5BOTEwNDM1ODEwN15BMl5BanBnXkFtZTcwMzM0NDg0OQ@@._V1_UY268_CR9,0,182,268_AL_.jpg\" width=\"120\"><br/>\n",
       "        <span>4.0000</span><br/>Past, The (Le passé) (2013)<br/><ul><li>Drama</li><li>Mystery</li><li>Romance</li></ul><br/></div>\n",
       "            <div style=\"display:inline-block;min-width:150px;max-width:150px;vertical-align: top;\">\n",
       "                <img src=\"https://images-na.ssl-images-amazon.com/images/M/MV5BMjA2MjY3OTE2MF5BMl5BanBnXkFtZTYwNTM2NzE5._V1_UY268_CR3,0,182,268_AL_.jpg\" width=\"120\"><br/>\n",
       "        <span>4.0000</span><br/>Book of Life, The (1998)<br/><ul><li>Comedy</li><li>Fantasy</li></ul><br/></div>\n",
       "            <div style=\"display:inline-block;min-width:150px;max-width:150px;vertical-align: top;\">\n",
       "                <img src=\"https://images-na.ssl-images-amazon.com/images/M/MV5BMTk2NDkyMDAxN15BMl5BanBnXkFtZTcwNDM0MDA0MQ@@._V1_UY268_CR73,0,182,268_AL_.jpg\" width=\"120\"><br/>\n",
       "        <span>4.0000</span><br/>Secret, The (2006)<br/><ul><li>Documentary</li></ul><br/></div>\n",
       "            <div style=\"display:inline-block;min-width:150px;max-width:150px;vertical-align: top;\">\n",
       "                <img src=\"https://images-na.ssl-images-amazon.com/images/M/MV5BMTIzMTA0NTM4NF5BMl5BanBnXkFtZTcwNjY3ODM0MQ@@._V1_UX182_CR0,0,182,268_AL_.jpg\" width=\"120\"><br/>\n",
       "        <span>4.0000</span><br/>Hannibal Rising (2007)<br/><ul><li>Drama</li><li>Horror</li><li>Thriller</li></ul><br/></div>\n",
       "            <div style=\"display:inline-block;min-width:150px;max-width:150px;vertical-align: top;\">\n",
       "                <img src=\"https://images-na.ssl-images-amazon.com/images/M/MV5BY2RkZDA3OTgtYzMxNy00YTYwLTkwMmEtMGE2MzcxZGQ1ZmQ2XkEyXkFqcGdeQXVyMjkxODI3MTY@._V1_UY268_CR4,0,182,268_AL_.jpg\" width=\"120\"><br/>\n",
       "        <span>4.0000</span><br/>Black Tar Heroin: The Dark End of the Street (2000)<br/><ul><li>Documentary</li></ul><br/></div>\n",
       "            <div style=\"display:inline-block;min-width:150px;max-width:150px;vertical-align: top;\">\n",
       "                <img src=\"https://images-na.ssl-images-amazon.com/images/M/MV5BMTQ3NTU0MDQ0Nl5BMl5BanBnXkFtZTcwNDAxODM5NA@@._V1_UX182_CR0,0,182,268_AL_.jpg\" width=\"120\"><br/>\n",
       "        <span>4.0000</span><br/>This World, Then the Fireworks (1997)<br/><ul><li>Crime</li><li>Drama</li><li>Film-Noir</li></ul><br/></div>"
      ],
      "text/plain": [
       "<IPython.core.display.HTML object>"
      ]
     },
     "metadata": {},
     "output_type": "display_data"
    }
   ],
   "source": [
    "displayMovies(movies, logs['movieId'].values, logs['rating'].values)\n",
    "displayMovies(movies, recs.index, recs['prediction'].values)"
   ]
  }
 ],
 "metadata": {
  "kernelspec": {
   "display_name": "Python 3",
   "language": "python",
   "name": "python3"
  },
  "language_info": {
   "codemirror_mode": {
    "name": "ipython",
    "version": 3
   },
   "file_extension": ".py",
   "mimetype": "text/x-python",
   "name": "python",
   "nbconvert_exporter": "python",
   "pygments_lexer": "ipython3",
   "version": "3.10.5"
  }
 },
 "nbformat": 4,
 "nbformat_minor": 2
}
