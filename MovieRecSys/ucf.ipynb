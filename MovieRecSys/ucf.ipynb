{
 "cells": [
  {
   "cell_type": "markdown",
   "metadata": {},
   "source": [
    "# User-based Collaborative Filtering"
   ]
  },
  {
   "cell_type": "code",
   "execution_count": 1,
   "metadata": {},
   "outputs": [],
   "source": [
    "import math\n",
    "import numpy as np\n",
    "from numpy import linalg as LA\n",
    "from scipy.sparse import coo_matrix\n",
    "import pandas as pd\n",
    "from IPython.display import HTML, display"
   ]
  },
  {
   "cell_type": "code",
   "execution_count": 2,
   "metadata": {},
   "outputs": [],
   "source": [
    "import sys\n",
    "sys.path.append('scripts')\n",
    "%run \"./scripts/liblecture.py\"\n",
    "from liblecture import displayMovies, display"
   ]
  },
  {
   "cell_type": "markdown",
   "metadata": {},
   "source": [
    "## Read Data: movies and ratings"
   ]
  },
  {
   "cell_type": "markdown",
   "metadata": {},
   "source": [
    "Read Movies"
   ]
  },
  {
   "cell_type": "code",
   "execution_count": 3,
   "metadata": {},
   "outputs": [],
   "source": [
    "movies = pd.read_csv('data/movies_w_imgurl.csv')"
   ]
  },
  {
   "cell_type": "markdown",
   "metadata": {},
   "source": [
    "Read Rating Data"
   ]
  },
  {
   "cell_type": "code",
   "execution_count": 4,
   "metadata": {},
   "outputs": [],
   "source": [
    "ratings = pd.read_csv('data/ratings-9_1.csv')\n",
    "train = ratings[ratings['type'] == 'train'][['userId', 'movieId', 'rating']]\n",
    "test = ratings[ratings['type'] == 'test'][['userId', 'movieId', 'rating']]"
   ]
  },
  {
   "cell_type": "code",
   "execution_count": 5,
   "metadata": {},
   "outputs": [],
   "source": [
    "def displayLikedUserMovies(movies, userId, topK):\n",
    "    display(HTML(\"<h3>%s</h3><hr>\" % userId))\n",
    "    topKRatings = train[train['userId'] == userId].sort_values(by='rating', ascending=False).head(topK)\n",
    "    displayMovies(movies, topKRatings.movieId.values, topKRatings.rating.values)"
   ]
  },
  {
   "cell_type": "markdown",
   "metadata": {},
   "source": [
    "## Convert Ratings to User-Item Sparse Matrix"
   ]
  },
  {
   "cell_type": "markdown",
   "metadata": {},
   "source": [
    "### Create Index to Id Maps"
   ]
  },
  {
   "cell_type": "code",
   "execution_count": 6,
   "metadata": {},
   "outputs": [],
   "source": [
    "movieIdToIndex = {}\n",
    "indexToMovieId = {}\n",
    "colIdx = 0\n",
    "for movieId in movies.movieId:\n",
    "    movieIdToIndex[movieId] = colIdx\n",
    "    indexToMovieId[colIdx] = movieId\n",
    "    colIdx += 1"
   ]
  },
  {
   "cell_type": "code",
   "execution_count": 7,
   "metadata": {},
   "outputs": [],
   "source": [
    "userIdToIndex = {}\n",
    "indexToUserId = {}\n",
    "rowIdx = 0\n",
    "for userId in ratings.userId.unique():\n",
    "    userIdToIndex[userId] = rowIdx\n",
    "    indexToUserId[rowIdx] = userId\n",
    "    rowIdx += 1"
   ]
  },
  {
   "cell_type": "markdown",
   "metadata": {},
   "source": [
    "### Creat User-Item Sparse Matrix"
   ]
  },
  {
   "cell_type": "code",
   "execution_count": 8,
   "metadata": {},
   "outputs": [],
   "source": [
    "rows = []\n",
    "cols = []\n",
    "vals = []\n",
    "for row in ratings.itertuples():\n",
    "    rows.append(userIdToIndex[row.userId])\n",
    "    cols.append(movieIdToIndex[row.movieId])\n",
    "    vals.append(row.rating)\n",
    "coomat = coo_matrix((vals, (rows, cols)), shape=(rowIdx, colIdx))"
   ]
  },
  {
   "cell_type": "markdown",
   "metadata": {},
   "source": [
    "## Compute User-User Similarities"
   ]
  },
  {
   "cell_type": "markdown",
   "metadata": {},
   "source": [
    "Compute $l_2$-norm"
   ]
  },
  {
   "cell_type": "code",
   "execution_count": 9,
   "metadata": {},
   "outputs": [],
   "source": [
    "norms = LA.norm(coomat.toarray(), ord=2, axis=1)"
   ]
  },
  {
   "cell_type": "markdown",
   "metadata": {},
   "source": [
    "Normalize Row Vectors"
   ]
  },
  {
   "cell_type": "code",
   "execution_count": 10,
   "metadata": {},
   "outputs": [],
   "source": [
    "np.seterr(divide='ignore', invalid='ignore')\n",
    "normmat = np.divide(coomat.transpose().toarray(), norms).T"
   ]
  },
  {
   "cell_type": "code",
   "execution_count": 11,
   "metadata": {},
   "outputs": [
    {
     "data": {
      "text/plain": [
       "array([[0.  , 0.  , 0.  , ..., 0.  , 0.  , 0.  ],\n",
       "       [0.  , 0.  , 0.  , ..., 0.  , 0.  , 0.  ],\n",
       "       [0.  , 0.  , 0.  , ..., 0.  , 0.  , 0.  ],\n",
       "       ...,\n",
       "       [0.  , 0.  , 0.  , ..., 0.  , 0.  , 0.  ],\n",
       "       [0.18, 0.  , 0.  , ..., 0.  , 0.  , 0.  ],\n",
       "       [0.12, 0.  , 0.  , ..., 0.  , 0.  , 0.  ]])"
      ]
     },
     "execution_count": 11,
     "metadata": {},
     "output_type": "execute_result"
    }
   ],
   "source": [
    "np.nan_to_num(normmat, 0.0)"
   ]
  },
  {
   "cell_type": "markdown",
   "metadata": {},
   "source": [
    "Compute Similarities ( = inner product)"
   ]
  },
  {
   "cell_type": "code",
   "execution_count": 12,
   "metadata": {},
   "outputs": [],
   "source": [
    "sims = pd.DataFrame(data=np.matmul(normmat, normmat.T), index=ratings.userId.unique(), columns=ratings.userId.unique())"
   ]
  },
  {
   "cell_type": "markdown",
   "metadata": {},
   "source": [
    "## Similarity Example"
   ]
  },
  {
   "cell_type": "code",
   "execution_count": 13,
   "metadata": {},
   "outputs": [],
   "source": [
    "topK = 6\n",
    "userId = 33\n",
    "simUsers = sims.loc[33, :].sort_values(ascending=False).head(11).tail(5)"
   ]
  },
  {
   "cell_type": "code",
   "execution_count": 14,
   "metadata": {},
   "outputs": [
    {
     "data": {
      "text/html": [
       "<h3>33</h3><hr>"
      ],
      "text/plain": [
       "<IPython.core.display.HTML object>"
      ]
     },
     "metadata": {},
     "output_type": "display_data"
    },
    {
     "data": {
      "text/html": [
       "\n",
       "            <div style=\"display:inline-block;min-width:150px;max-width:150px;vertical-align: top;\">\n",
       "                <img src=\"https://images-na.ssl-images-amazon.com/images/M/MV5BYmE1OTY4NjgtYjcwNC00NWE4LWJiNGMtZmVhYTdlMWE1YzIxXkEyXkFqcGdeQXVyMTMxODk2OTU@._V1_UX182_CR0,0,182,268_AL_.jpg\" width=\"120\"><br/>\n",
       "        <span>5.0000</span><br/>Punch-Drunk Love (2002)<br/><ul><li>Comedy</li><li>Drama</li><li>Romance</li></ul><br/></div>\n",
       "            <div style=\"display:inline-block;min-width:150px;max-width:150px;vertical-align: top;\">\n",
       "                <img src=\"https://images-na.ssl-images-amazon.com/images/M/MV5BNDllYWVkOTQtZjRlMC00NWFjLWI0OGEtOWY4YzU4ZjMxYzg3XkEyXkFqcGdeQXVyMTQxNzMzNDI@._V1_UX182_CR0,0,182,268_AL_.jpg\" width=\"120\"><br/>\n",
       "        <span>5.0000</span><br/>Sex, Lies, and Videotape (1989)<br/><ul><li>Drama</li></ul><br/></div>\n",
       "            <div style=\"display:inline-block;min-width:150px;max-width:150px;vertical-align: top;\">\n",
       "                <img src=\"https://images-na.ssl-images-amazon.com/images/M/MV5BMjIwOWVkNzMtZTIyZC00ZWM0LTg5MWYtMWYwYjVhZTM3MDMzXkEyXkFqcGdeQXVyNTI4MjkwNjA@._V1_UX182_CR0,0,182,268_AL_.jpg\" width=\"120\"><br/>\n",
       "        <span>5.0000</span><br/>Uncle Buck (1989)<br/><ul><li>Comedy</li></ul><br/></div>\n",
       "            <div style=\"display:inline-block;min-width:150px;max-width:150px;vertical-align: top;\">\n",
       "                <img src=\"https://images-na.ssl-images-amazon.com/images/M/MV5BOTA5MzQ3MzI1NV5BMl5BanBnXkFtZTgwNTcxNTYxMTE@._V1_UX182_CR0,0,182,268_AL_.jpg\" width=\"120\"><br/>\n",
       "        <span>5.0000</span><br/>Office Space (1999)<br/><ul><li>Comedy</li><li>Crime</li></ul><br/></div>\n",
       "            <div style=\"display:inline-block;min-width:150px;max-width:150px;vertical-align: top;\">\n",
       "                <img src=\"https://cdn.shopify.com/s/files/1/1416/8662/products/Poltergeist_1982_french_original_film_art_5000x.jpg?v=1617374883\" width=\"120\"><br/>\n",
       "        <span>5.0000</span><br/>Poltergeist (1982)<br/><ul><li>Horror</li><li>Thriller</li></ul><br/></div>\n",
       "            <div style=\"display:inline-block;min-width:150px;max-width:150px;vertical-align: top;\">\n",
       "                <img src=\"https://images-na.ssl-images-amazon.com/images/M/MV5BMjMxMDFhYzQtZDZmZS00ZDBjLWIzY2QtNDBiMDQ5YjBlNTk1XkEyXkFqcGdeQXVyNTAyODkwOQ@@._V1_UX182_CR0,0,182,268_AL_.jpg\" width=\"120\"><br/>\n",
       "        <span>5.0000</span><br/>American Movie (1999)<br/><ul><li>Documentary</li></ul><br/></div>"
      ],
      "text/plain": [
       "<IPython.core.display.HTML object>"
      ]
     },
     "metadata": {},
     "output_type": "display_data"
    },
    {
     "data": {
      "text/html": [
       "<h3>15</h3><hr>"
      ],
      "text/plain": [
       "<IPython.core.display.HTML object>"
      ]
     },
     "metadata": {},
     "output_type": "display_data"
    },
    {
     "data": {
      "text/html": [
       "\n",
       "            <div style=\"display:inline-block;min-width:150px;max-width:150px;vertical-align: top;\">\n",
       "                <img src=\"https://images-na.ssl-images-amazon.com/images/M/MV5BMjA2NjU5MTg5OF5BMl5BanBnXkFtZTgwOTkyMzQxMDE@._V1_UX182_CR0,0,182,268_AL_.jpg\" width=\"120\"><br/>\n",
       "        <span>5.0000</span><br/>Scream (1996)<br/><ul><li>Comedy</li><li>Horror</li><li>Mystery</li><li>Thriller</li></ul><br/></div>\n",
       "            <div style=\"display:inline-block;min-width:150px;max-width:150px;vertical-align: top;\">\n",
       "                <img src=\"https://images-na.ssl-images-amazon.com/images/M/MV5BMTkxMTA5OTAzMl5BMl5BanBnXkFtZTgwNjA5MDc3NjE@._V1_UX182_CR0,0,182,268_AL_.jpg\" width=\"120\"><br/>\n",
       "        <span>5.0000</span><br/>Pulp Fiction (1994)<br/><ul><li>Comedy</li><li>Crime</li><li>Drama</li><li>Thriller</li></ul><br/></div>\n",
       "            <div style=\"display:inline-block;min-width:150px;max-width:150px;vertical-align: top;\">\n",
       "                <img src=\"https://upload.wikimedia.org/wikipedia/en/2/2b/Lone_Star_film.jpg\" width=\"120\"><br/>\n",
       "        <span>5.0000</span><br/>Lone Star (1996)<br/><ul><li>Drama</li><li>Mystery</li><li>Western</li></ul><br/></div>\n",
       "            <div style=\"display:inline-block;min-width:150px;max-width:150px;vertical-align: top;\">\n",
       "                <img src=\"https://upload.wikimedia.org/wikipedia/en/1/1c/Godfather_ver1.jpg\" width=\"120\"><br/>\n",
       "        <span>5.0000</span><br/>Godfather, The (1972)<br/><ul><li>Crime</li><li>Drama</li></ul><br/></div>\n",
       "            <div style=\"display:inline-block;min-width:150px;max-width:150px;vertical-align: top;\">\n",
       "                <img src=\"https://upload.wikimedia.org/wikipedia/en/8/87/StarWarsMoviePoster1977.jpg\" width=\"120\"><br/>\n",
       "        <span>5.0000</span><br/>Star Wars: Episode IV - A New Hope (1977)<br/><ul><li>Action</li><li>Adventure</li><li>Sci-Fi</li></ul><br/></div>\n",
       "            <div style=\"display:inline-block;min-width:150px;max-width:150px;vertical-align: top;\">\n",
       "                <img src=\"https://images-na.ssl-images-amazon.com/images/M/MV5BNzRmN2NjNzktOWE1My00NjVlLWFhNjYtZmFkMzM5YTA2ZTFlXkEyXkFqcGdeQXVyMTQxNzMzNDI@._V1_UX182_CR0,0,182,268_AL_.jpg\" width=\"120\"><br/>\n",
       "        <span>5.0000</span><br/>Dude, Where's My Car? (2000)<br/><ul><li>Comedy</li><li>Sci-Fi</li></ul><br/></div>"
      ],
      "text/plain": [
       "<IPython.core.display.HTML object>"
      ]
     },
     "metadata": {},
     "output_type": "display_data"
    },
    {
     "data": {
      "text/html": [
       "<h3>463</h3><hr>"
      ],
      "text/plain": [
       "<IPython.core.display.HTML object>"
      ]
     },
     "metadata": {},
     "output_type": "display_data"
    },
    {
     "data": {
      "text/html": [
       "\n",
       "            <div style=\"display:inline-block;min-width:150px;max-width:150px;vertical-align: top;\">\n",
       "                <img src=\"https://images-na.ssl-images-amazon.com/images/M/MV5BNDE4OTMxMTctNmRhYy00NWE2LTg3YzItYTk3M2UwOTU5Njg4XkEyXkFqcGdeQXVyNjU0OTQ0OTY@._V1_UX182_CR0,0,182,268_AL_.jpg\" width=\"120\"><br/>\n",
       "        <span>5.0000</span><br/>Schindler's List (1993)<br/><ul><li>Drama</li><li>War</li></ul><br/></div>\n",
       "            <div style=\"display:inline-block;min-width:150px;max-width:150px;vertical-align: top;\">\n",
       "                <img src=\"https://upload.wikimedia.org/wikipedia/en/8/81/ShawshankRedemptionMoviePoster.jpg\" width=\"120\"><br/>\n",
       "        <span>5.0000</span><br/>Shawshank Redemption, The (1994)<br/><ul><li>Crime</li><li>Drama</li></ul><br/></div>\n",
       "            <div style=\"display:inline-block;min-width:150px;max-width:150px;vertical-align: top;\">\n",
       "                <img src=\"https://images-na.ssl-images-amazon.com/images/M/MV5BNzQzOTk3OTAtNDQ0Zi00ZTVkLWI0MTEtMDllZjNkYzNjNTc4L2ltYWdlXkEyXkFqcGdeQXVyNjU0OTQ0OTY@._V1_UX182_CR0,0,182,268_AL_.jpg\" width=\"120\"><br/>\n",
       "        <span>5.0000</span><br/>Matrix, The (1999)<br/><ul><li>Action</li><li>Sci-Fi</li><li>Thriller</li></ul><br/></div>\n",
       "            <div style=\"display:inline-block;min-width:150px;max-width:150px;vertical-align: top;\">\n",
       "                <img src=\"https://images-na.ssl-images-amazon.com/images/M/MV5BODE1MDczNTUxOV5BMl5BanBnXkFtZTcwMTA0NDQyNA@@._V1_UX182_CR0,0,182,268_AL_.jpg\" width=\"120\"><br/>\n",
       "        <span>5.0000</span><br/>Terminator, The (1984)<br/><ul><li>Action</li><li>Sci-Fi</li><li>Thriller</li></ul><br/></div>\n",
       "            <div style=\"display:inline-block;min-width:150px;max-width:150px;vertical-align: top;\">\n",
       "                <img src=\"https://images-na.ssl-images-amazon.com/images/M/MV5BNGRmOWY0MGUtNTVhMy00NzRlLTljNDAtNTBiNTRlODgxNmY2XkEyXkFqcGdeQXVyNjc1NTYyMjg@._V1_UY268_CR4,0,182,268_AL_.jpg\" width=\"120\"><br/>\n",
       "        <span>5.0000</span><br/>Boot, Das (Boat, The) (1981)<br/><ul><li>Action</li><li>Drama</li><li>War</li></ul><br/></div>\n",
       "            <div style=\"display:inline-block;min-width:150px;max-width:150px;vertical-align: top;\">\n",
       "                <img src=\"https://images-na.ssl-images-amazon.com/images/M/MV5BOTA5MzQ3MzI1NV5BMl5BanBnXkFtZTgwNTcxNTYxMTE@._V1_UX182_CR0,0,182,268_AL_.jpg\" width=\"120\"><br/>\n",
       "        <span>5.0000</span><br/>Office Space (1999)<br/><ul><li>Comedy</li><li>Crime</li></ul><br/></div>"
      ],
      "text/plain": [
       "<IPython.core.display.HTML object>"
      ]
     },
     "metadata": {},
     "output_type": "display_data"
    },
    {
     "data": {
      "text/html": [
       "<h3>509</h3><hr>"
      ],
      "text/plain": [
       "<IPython.core.display.HTML object>"
      ]
     },
     "metadata": {},
     "output_type": "display_data"
    },
    {
     "data": {
      "text/html": [
       "\n",
       "            <div style=\"display:inline-block;min-width:150px;max-width:150px;vertical-align: top;\">\n",
       "                <img src=\"https://upload.wikimedia.org/wikipedia/en/5/57/The_Deer_Hunter_poster.jpg\" width=\"120\"><br/>\n",
       "        <span>5.0000</span><br/>Deer Hunter, The (1978)<br/><ul><li>Drama</li><li>War</li></ul><br/></div>\n",
       "            <div style=\"display:inline-block;min-width:150px;max-width:150px;vertical-align: top;\">\n",
       "                <img src=\"https://images-na.ssl-images-amazon.com/images/M/MV5BMTgxMTI1ODYyOV5BMl5BanBnXkFtZTYwNjQyOTI3._V1_UY268_CR6,0,182,268_AL_.jpg\" width=\"120\"><br/>\n",
       "        <span>5.0000</span><br/>High Fidelity (2000)<br/><ul><li>Comedy</li><li>Drama</li><li>Romance</li></ul><br/></div>\n",
       "            <div style=\"display:inline-block;min-width:150px;max-width:150px;vertical-align: top;\">\n",
       "                <img src=\"https://images-na.ssl-images-amazon.com/images/M/MV5BNjhjODI2NTItMGE1ZS00NThiLWE1MmYtOWE3YzcyNzY1MTJlXkEyXkFqcGdeQXVyNTc1NTQxODI@._V1_UX182_CR0,0,182,268_AL_.jpg\" width=\"120\"><br/>\n",
       "        <span>5.0000</span><br/>Hustler, The (1961)<br/><ul><li>Drama</li></ul><br/></div>\n",
       "            <div style=\"display:inline-block;min-width:150px;max-width:150px;vertical-align: top;\">\n",
       "                <img src=\"https://images-na.ssl-images-amazon.com/images/M/MV5BZTcyNjk1MjgtOWI3Mi00YzQwLWI5MTktMzY4ZmI2NDAyNzYzXkEyXkFqcGdeQXVyNjU0OTQ0OTY@._V1_UY268_CR0,0,182,268_AL_.jpg\" width=\"120\"><br/>\n",
       "        <span>5.0000</span><br/>Memento (2000)<br/><ul><li>Mystery</li><li>Thriller</li></ul><br/></div>\n",
       "            <div style=\"display:inline-block;min-width:150px;max-width:150px;vertical-align: top;\">\n",
       "                <img src=\"https://images-na.ssl-images-amazon.com/images/M/MV5BZjYwYzliYTktMzk3MS00MzE0LTllM2QtMDk3MTFmOGQ2MjE0XkEyXkFqcGdeQXVyMTQxNzMzNDI@._V1_UX182_CR0,0,182,268_AL_.jpg\" width=\"120\"><br/>\n",
       "        <span>5.0000</span><br/>Amores Perros (Love's a Bitch) (2000)<br/><ul><li>Drama</li><li>Thriller</li></ul><br/></div>\n",
       "            <div style=\"display:inline-block;min-width:150px;max-width:150px;vertical-align: top;\">\n",
       "                <img src=\"https://upload.wikimedia.org/wikipedia/en/0/08/Monty-Python-1975-poster.png\" width=\"120\"><br/>\n",
       "        <span>5.0000</span><br/>Monty Python and the Holy Grail (1975)<br/><ul><li>Adventure</li><li>Comedy</li><li>Fantasy</li></ul><br/></div>"
      ],
      "text/plain": [
       "<IPython.core.display.HTML object>"
      ]
     },
     "metadata": {},
     "output_type": "display_data"
    },
    {
     "data": {
      "text/html": [
       "<h3>580</h3><hr>"
      ],
      "text/plain": [
       "<IPython.core.display.HTML object>"
      ]
     },
     "metadata": {},
     "output_type": "display_data"
    },
    {
     "data": {
      "text/html": [
       "\n",
       "            <div style=\"display:inline-block;min-width:150px;max-width:150px;vertical-align: top;\">\n",
       "                <img src=\"https://upload.wikimedia.org/wikipedia/en/1/1c/Godfather_ver1.jpg\" width=\"120\"><br/>\n",
       "        <span>5.0000</span><br/>Godfather, The (1972)<br/><ul><li>Crime</li><li>Drama</li></ul><br/></div>\n",
       "            <div style=\"display:inline-block;min-width:150px;max-width:150px;vertical-align: top;\">\n",
       "                <img src=\"https://images-na.ssl-images-amazon.com/images/M/MV5BMTMxNTMwODM0NF5BMl5BanBnXkFtZTcwODAyMTk2Mw@@._V1_UX182_CR0,0,182,268_AL_.jpg\" width=\"120\"><br/>\n",
       "        <span>5.0000</span><br/>Dark Knight, The (2008)<br/><ul><li>Action</li><li>Crime</li><li>Drama</li><li>IMAX</li></ul><br/></div>\n",
       "            <div style=\"display:inline-block;min-width:150px;max-width:150px;vertical-align: top;\">\n",
       "                <img src=\"https://upload.wikimedia.org/wikipedia/en/d/db/Donnie_Darko_poster.jpg\" width=\"120\"><br/>\n",
       "        <span>5.0000</span><br/>Donnie Darko (2001)<br/><ul><li>Drama</li><li>Mystery</li><li>Sci-Fi</li><li>Thriller</li></ul><br/></div>\n",
       "            <div style=\"display:inline-block;min-width:150px;max-width:150px;vertical-align: top;\">\n",
       "                <img src=\"https://upload.wikimedia.org/wikipedia/en/f/fc/Fight_Club_poster.jpg\" width=\"120\"><br/>\n",
       "        <span>5.0000</span><br/>Fight Club (1999)<br/><ul><li>Action</li><li>Crime</li><li>Drama</li><li>Thriller</li></ul><br/></div>\n",
       "            <div style=\"display:inline-block;min-width:150px;max-width:150px;vertical-align: top;\">\n",
       "                <img src=\"https://images-na.ssl-images-amazon.com/images/M/MV5BMTY5MjA3MTY2Ml5BMl5BanBnXkFtZTcwNTMzNzYzMw@@._V1_UX182_CR0,0,182,268_AL_.jpg\" width=\"120\"><br/>\n",
       "        <span>5.0000</span><br/>Stranger than Fiction (2006)<br/><ul><li>Comedy</li><li>Drama</li><li>Fantasy</li><li>Romance</li></ul><br/></div>\n",
       "            <div style=\"display:inline-block;min-width:150px;max-width:150px;vertical-align: top;\">\n",
       "                <img src=\"https://images-na.ssl-images-amazon.com/images/M/MV5BMDMyMjEyYzEtODVlZC00OWY0LTkxZjItNjJmOWRjNzQxMGNmXkEyXkFqcGdeQXVyMTQxNzMzNDI@._V1_UY268_CR0,0,182,268_AL_.jpg\" width=\"120\"><br/>\n",
       "        <span>4.5000</span><br/>Bringing Out the Dead (1999)<br/><ul><li>Drama</li></ul><br/></div>"
      ],
      "text/plain": [
       "<IPython.core.display.HTML object>"
      ]
     },
     "metadata": {},
     "output_type": "display_data"
    },
    {
     "data": {
      "text/html": [
       "<h3>439</h3><hr>"
      ],
      "text/plain": [
       "<IPython.core.display.HTML object>"
      ]
     },
     "metadata": {},
     "output_type": "display_data"
    },
    {
     "data": {
      "text/html": [
       "\n",
       "            <div style=\"display:inline-block;min-width:150px;max-width:150px;vertical-align: top;\">\n",
       "                <img src=\"https://images-na.ssl-images-amazon.com/images/M/MV5BMTI4NTM0Mzg2NV5BMl5BanBnXkFtZTcwNjQxMDAwMQ@@._V1_UY268_CR0,0,182,268_AL_.jpg\" width=\"120\"><br/>\n",
       "        <span>5.0000</span><br/>Gangs of New York (2002)<br/><ul><li>Crime</li><li>Drama</li></ul><br/></div>\n",
       "            <div style=\"display:inline-block;min-width:150px;max-width:150px;vertical-align: top;\">\n",
       "                <img src=\"https://images-na.ssl-images-amazon.com/images/M/MV5BNDA2NTg2NjE4Ml5BMl5BanBnXkFtZTYwMjYxMDg5._V1_UX182_CR0,0,182,268_AL_.jpg\" width=\"120\"><br/>\n",
       "        <span>5.0000</span><br/>Ring, The (2002)<br/><ul><li>Horror</li><li>Mystery</li><li>Thriller</li></ul><br/></div>\n",
       "            <div style=\"display:inline-block;min-width:150px;max-width:150px;vertical-align: top;\">\n",
       "                <img src=\"https://upload.wikimedia.org/wikipedia/commons/2/27/Poster_-_Gone_With_the_Wind_01.jpg\" width=\"120\"><br/>\n",
       "        <span>5.0000</span><br/>Gone with the Wind (1939)<br/><ul><li>Drama</li><li>Romance</li><li>War</li></ul><br/></div>\n",
       "            <div style=\"display:inline-block;min-width:150px;max-width:150px;vertical-align: top;\">\n",
       "                <img src=\"https://images-na.ssl-images-amazon.com/images/M/MV5BMTY2MTAzODI5NV5BMl5BanBnXkFtZTgwMjM4NzQ0MjE@._V1_UX182_CR0,0,182,268_AL_.jpg\" width=\"120\"><br/>\n",
       "        <span>5.0000</span><br/>All About Eve (1950)<br/><ul><li>Drama</li></ul><br/></div>\n",
       "            <div style=\"display:inline-block;min-width:150px;max-width:150px;vertical-align: top;\">\n",
       "                <img src=\"https://images-na.ssl-images-amazon.com/images/M/MV5BNjNhZTk0ZmEtNjJhMi00YzFlLWE1MmEtYzM1M2ZmMGMwMTU4XkEyXkFqcGdeQXVyNjU0OTQ0OTY@._V1_UX182_CR0,0,182,268_AL_.jpg\" width=\"120\"><br/>\n",
       "        <span>5.0000</span><br/>Silence of the Lambs, The (1991)<br/><ul><li>Crime</li><li>Horror</li><li>Thriller</li></ul><br/></div>\n",
       "            <div style=\"display:inline-block;min-width:150px;max-width:150px;vertical-align: top;\">\n",
       "                <img src=\"https://images-na.ssl-images-amazon.com/images/M/MV5BNTkyMzk3NTYtY2FiYy00MWIwLWIyYzctODIzNzVlOGQxZmYwXkEyXkFqcGdeQXVyMTQxNzMzNDI@._V1_UX182_CR0,0,182,268_AL_.jpg\" width=\"120\"><br/>\n",
       "        <span>5.0000</span><br/>Monster's Ball (2001)<br/><ul><li>Drama</li><li>Romance</li></ul><br/></div>"
      ],
      "text/plain": [
       "<IPython.core.display.HTML object>"
      ]
     },
     "metadata": {},
     "output_type": "display_data"
    }
   ],
   "source": [
    "displayLikedUserMovies(movies, userId, topK)\n",
    "for index, simUser in simUsers.iteritems():\n",
    "    displayLikedUserMovies(movies, index, topK)"
   ]
  },
  {
   "cell_type": "markdown",
   "metadata": {},
   "source": [
    "## User Rating Prediction"
   ]
  },
  {
   "cell_type": "code",
   "execution_count": 15,
   "metadata": {},
   "outputs": [],
   "source": [
    "userId = 33"
   ]
  },
  {
   "cell_type": "markdown",
   "metadata": {},
   "source": [
    "### Predict Ratings"
   ]
  },
  {
   "cell_type": "code",
   "execution_count": 16,
   "metadata": {},
   "outputs": [],
   "source": [
    "ratingDF = pd.DataFrame(data=coomat.toarray(), index=ratings.userId.unique(), columns=movies.movieId.values)\n",
    "binDF = ratingDF.applymap(lambda x: math.ceil(x/10))"
   ]
  },
  {
   "cell_type": "code",
   "execution_count": 17,
   "metadata": {},
   "outputs": [],
   "source": [
    "userAvgRatings = pd.DataFrame(data=ratingDF.sum(axis=1).divide(binDF.sum(axis=1)), columns=['avg'])"
   ]
  },
  {
   "cell_type": "code",
   "execution_count": 18,
   "metadata": {},
   "outputs": [],
   "source": [
    "simUsers = sims.loc[userId, :]\n",
    "simUsers[userId] = 0"
   ]
  },
  {
   "cell_type": "code",
   "execution_count": 19,
   "metadata": {},
   "outputs": [],
   "source": [
    "simRatingSums = (ratingDF - binDF.T.multiply(userAvgRatings['avg']).T).T.multiply(simUsers).T.sum(axis=0)\n",
    "simSums = binDF.T.multiply(simUsers).T.sum(axis=0)\n",
    "recItemRatings = userAvgRatings.loc[userId].avg + pd.Series(data=simRatingSums.divide(simSums), name='prediction')\n",
    "recItemRatings.fillna(0, inplace=True)"
   ]
  },
  {
   "cell_type": "code",
   "execution_count": 20,
   "metadata": {},
   "outputs": [
    {
     "data": {
      "text/html": [
       "<div>\n",
       "<style scoped>\n",
       "    .dataframe tbody tr th:only-of-type {\n",
       "        vertical-align: middle;\n",
       "    }\n",
       "\n",
       "    .dataframe tbody tr th {\n",
       "        vertical-align: top;\n",
       "    }\n",
       "\n",
       "    .dataframe thead th {\n",
       "        text-align: right;\n",
       "    }\n",
       "</style>\n",
       "<table border=\"1\" class=\"dataframe\">\n",
       "  <thead>\n",
       "    <tr style=\"text-align: right;\">\n",
       "      <th></th>\n",
       "      <th>1</th>\n",
       "      <th>2</th>\n",
       "      <th>3</th>\n",
       "      <th>4</th>\n",
       "      <th>5</th>\n",
       "      <th>6</th>\n",
       "      <th>7</th>\n",
       "      <th>8</th>\n",
       "      <th>9</th>\n",
       "      <th>10</th>\n",
       "      <th>...</th>\n",
       "      <th>161830</th>\n",
       "      <th>161918</th>\n",
       "      <th>161944</th>\n",
       "      <th>162376</th>\n",
       "      <th>162542</th>\n",
       "      <th>162672</th>\n",
       "      <th>163056</th>\n",
       "      <th>163949</th>\n",
       "      <th>164977</th>\n",
       "      <th>164979</th>\n",
       "    </tr>\n",
       "  </thead>\n",
       "  <tbody>\n",
       "    <tr>\n",
       "      <th>1</th>\n",
       "      <td>0.00</td>\n",
       "      <td>0.0</td>\n",
       "      <td>0.00</td>\n",
       "      <td>0.0</td>\n",
       "      <td>0.0</td>\n",
       "      <td>0.00</td>\n",
       "      <td>0.0</td>\n",
       "      <td>0.0</td>\n",
       "      <td>0.0</td>\n",
       "      <td>0.00</td>\n",
       "      <td>...</td>\n",
       "      <td>0.0</td>\n",
       "      <td>0.0</td>\n",
       "      <td>0.0</td>\n",
       "      <td>0.0</td>\n",
       "      <td>0.0</td>\n",
       "      <td>0.0</td>\n",
       "      <td>0.0</td>\n",
       "      <td>0.0</td>\n",
       "      <td>0.0</td>\n",
       "      <td>0.0</td>\n",
       "    </tr>\n",
       "    <tr>\n",
       "      <th>2</th>\n",
       "      <td>0.00</td>\n",
       "      <td>0.0</td>\n",
       "      <td>0.00</td>\n",
       "      <td>0.0</td>\n",
       "      <td>0.0</td>\n",
       "      <td>0.00</td>\n",
       "      <td>0.0</td>\n",
       "      <td>0.0</td>\n",
       "      <td>0.0</td>\n",
       "      <td>3.49</td>\n",
       "      <td>...</td>\n",
       "      <td>0.0</td>\n",
       "      <td>0.0</td>\n",
       "      <td>0.0</td>\n",
       "      <td>0.0</td>\n",
       "      <td>0.0</td>\n",
       "      <td>0.0</td>\n",
       "      <td>0.0</td>\n",
       "      <td>0.0</td>\n",
       "      <td>0.0</td>\n",
       "      <td>0.0</td>\n",
       "    </tr>\n",
       "    <tr>\n",
       "      <th>3</th>\n",
       "      <td>0.00</td>\n",
       "      <td>0.0</td>\n",
       "      <td>0.00</td>\n",
       "      <td>0.0</td>\n",
       "      <td>0.0</td>\n",
       "      <td>0.00</td>\n",
       "      <td>0.0</td>\n",
       "      <td>0.0</td>\n",
       "      <td>0.0</td>\n",
       "      <td>0.00</td>\n",
       "      <td>...</td>\n",
       "      <td>0.0</td>\n",
       "      <td>0.0</td>\n",
       "      <td>0.0</td>\n",
       "      <td>0.0</td>\n",
       "      <td>0.0</td>\n",
       "      <td>0.0</td>\n",
       "      <td>0.0</td>\n",
       "      <td>0.0</td>\n",
       "      <td>0.0</td>\n",
       "      <td>0.0</td>\n",
       "    </tr>\n",
       "    <tr>\n",
       "      <th>4</th>\n",
       "      <td>0.00</td>\n",
       "      <td>0.0</td>\n",
       "      <td>0.00</td>\n",
       "      <td>0.0</td>\n",
       "      <td>0.0</td>\n",
       "      <td>0.00</td>\n",
       "      <td>0.0</td>\n",
       "      <td>0.0</td>\n",
       "      <td>0.0</td>\n",
       "      <td>4.35</td>\n",
       "      <td>...</td>\n",
       "      <td>0.0</td>\n",
       "      <td>0.0</td>\n",
       "      <td>0.0</td>\n",
       "      <td>0.0</td>\n",
       "      <td>0.0</td>\n",
       "      <td>0.0</td>\n",
       "      <td>0.0</td>\n",
       "      <td>0.0</td>\n",
       "      <td>0.0</td>\n",
       "      <td>0.0</td>\n",
       "    </tr>\n",
       "    <tr>\n",
       "      <th>5</th>\n",
       "      <td>0.00</td>\n",
       "      <td>0.0</td>\n",
       "      <td>3.91</td>\n",
       "      <td>0.0</td>\n",
       "      <td>0.0</td>\n",
       "      <td>0.00</td>\n",
       "      <td>0.0</td>\n",
       "      <td>0.0</td>\n",
       "      <td>0.0</td>\n",
       "      <td>0.00</td>\n",
       "      <td>...</td>\n",
       "      <td>0.0</td>\n",
       "      <td>0.0</td>\n",
       "      <td>0.0</td>\n",
       "      <td>0.0</td>\n",
       "      <td>0.0</td>\n",
       "      <td>0.0</td>\n",
       "      <td>0.0</td>\n",
       "      <td>0.0</td>\n",
       "      <td>0.0</td>\n",
       "      <td>0.0</td>\n",
       "    </tr>\n",
       "    <tr>\n",
       "      <th>...</th>\n",
       "      <td>...</td>\n",
       "      <td>...</td>\n",
       "      <td>...</td>\n",
       "      <td>...</td>\n",
       "      <td>...</td>\n",
       "      <td>...</td>\n",
       "      <td>...</td>\n",
       "      <td>...</td>\n",
       "      <td>...</td>\n",
       "      <td>...</td>\n",
       "      <td>...</td>\n",
       "      <td>...</td>\n",
       "      <td>...</td>\n",
       "      <td>...</td>\n",
       "      <td>...</td>\n",
       "      <td>...</td>\n",
       "      <td>...</td>\n",
       "      <td>...</td>\n",
       "      <td>...</td>\n",
       "      <td>...</td>\n",
       "      <td>...</td>\n",
       "    </tr>\n",
       "    <tr>\n",
       "      <th>667</th>\n",
       "      <td>0.00</td>\n",
       "      <td>0.0</td>\n",
       "      <td>0.00</td>\n",
       "      <td>0.0</td>\n",
       "      <td>0.0</td>\n",
       "      <td>3.65</td>\n",
       "      <td>0.0</td>\n",
       "      <td>0.0</td>\n",
       "      <td>0.0</td>\n",
       "      <td>0.00</td>\n",
       "      <td>...</td>\n",
       "      <td>0.0</td>\n",
       "      <td>0.0</td>\n",
       "      <td>0.0</td>\n",
       "      <td>0.0</td>\n",
       "      <td>0.0</td>\n",
       "      <td>0.0</td>\n",
       "      <td>0.0</td>\n",
       "      <td>0.0</td>\n",
       "      <td>0.0</td>\n",
       "      <td>0.0</td>\n",
       "    </tr>\n",
       "    <tr>\n",
       "      <th>668</th>\n",
       "      <td>0.00</td>\n",
       "      <td>0.0</td>\n",
       "      <td>0.00</td>\n",
       "      <td>0.0</td>\n",
       "      <td>0.0</td>\n",
       "      <td>0.00</td>\n",
       "      <td>0.0</td>\n",
       "      <td>0.0</td>\n",
       "      <td>0.0</td>\n",
       "      <td>0.00</td>\n",
       "      <td>...</td>\n",
       "      <td>0.0</td>\n",
       "      <td>0.0</td>\n",
       "      <td>0.0</td>\n",
       "      <td>0.0</td>\n",
       "      <td>0.0</td>\n",
       "      <td>0.0</td>\n",
       "      <td>0.0</td>\n",
       "      <td>0.0</td>\n",
       "      <td>0.0</td>\n",
       "      <td>0.0</td>\n",
       "    </tr>\n",
       "    <tr>\n",
       "      <th>669</th>\n",
       "      <td>0.00</td>\n",
       "      <td>0.0</td>\n",
       "      <td>0.00</td>\n",
       "      <td>0.0</td>\n",
       "      <td>0.0</td>\n",
       "      <td>0.00</td>\n",
       "      <td>0.0</td>\n",
       "      <td>0.0</td>\n",
       "      <td>0.0</td>\n",
       "      <td>0.00</td>\n",
       "      <td>...</td>\n",
       "      <td>0.0</td>\n",
       "      <td>0.0</td>\n",
       "      <td>0.0</td>\n",
       "      <td>0.0</td>\n",
       "      <td>0.0</td>\n",
       "      <td>0.0</td>\n",
       "      <td>0.0</td>\n",
       "      <td>0.0</td>\n",
       "      <td>0.0</td>\n",
       "      <td>0.0</td>\n",
       "    </tr>\n",
       "    <tr>\n",
       "      <th>670</th>\n",
       "      <td>3.81</td>\n",
       "      <td>0.0</td>\n",
       "      <td>0.00</td>\n",
       "      <td>0.0</td>\n",
       "      <td>0.0</td>\n",
       "      <td>0.00</td>\n",
       "      <td>0.0</td>\n",
       "      <td>0.0</td>\n",
       "      <td>0.0</td>\n",
       "      <td>0.00</td>\n",
       "      <td>...</td>\n",
       "      <td>0.0</td>\n",
       "      <td>0.0</td>\n",
       "      <td>0.0</td>\n",
       "      <td>0.0</td>\n",
       "      <td>0.0</td>\n",
       "      <td>0.0</td>\n",
       "      <td>0.0</td>\n",
       "      <td>0.0</td>\n",
       "      <td>0.0</td>\n",
       "      <td>0.0</td>\n",
       "    </tr>\n",
       "    <tr>\n",
       "      <th>671</th>\n",
       "      <td>3.92</td>\n",
       "      <td>0.0</td>\n",
       "      <td>0.00</td>\n",
       "      <td>0.0</td>\n",
       "      <td>0.0</td>\n",
       "      <td>0.00</td>\n",
       "      <td>0.0</td>\n",
       "      <td>0.0</td>\n",
       "      <td>0.0</td>\n",
       "      <td>0.00</td>\n",
       "      <td>...</td>\n",
       "      <td>0.0</td>\n",
       "      <td>0.0</td>\n",
       "      <td>0.0</td>\n",
       "      <td>0.0</td>\n",
       "      <td>0.0</td>\n",
       "      <td>0.0</td>\n",
       "      <td>0.0</td>\n",
       "      <td>0.0</td>\n",
       "      <td>0.0</td>\n",
       "      <td>0.0</td>\n",
       "    </tr>\n",
       "  </tbody>\n",
       "</table>\n",
       "<p>671 rows × 9125 columns</p>\n",
       "</div>"
      ],
      "text/plain": [
       "     1       2       3       4       5       6       7       8       9       \\\n",
       "1      0.00     0.0    0.00     0.0     0.0    0.00     0.0     0.0     0.0   \n",
       "2      0.00     0.0    0.00     0.0     0.0    0.00     0.0     0.0     0.0   \n",
       "3      0.00     0.0    0.00     0.0     0.0    0.00     0.0     0.0     0.0   \n",
       "4      0.00     0.0    0.00     0.0     0.0    0.00     0.0     0.0     0.0   \n",
       "5      0.00     0.0    3.91     0.0     0.0    0.00     0.0     0.0     0.0   \n",
       "..      ...     ...     ...     ...     ...     ...     ...     ...     ...   \n",
       "667    0.00     0.0    0.00     0.0     0.0    3.65     0.0     0.0     0.0   \n",
       "668    0.00     0.0    0.00     0.0     0.0    0.00     0.0     0.0     0.0   \n",
       "669    0.00     0.0    0.00     0.0     0.0    0.00     0.0     0.0     0.0   \n",
       "670    3.81     0.0    0.00     0.0     0.0    0.00     0.0     0.0     0.0   \n",
       "671    3.92     0.0    0.00     0.0     0.0    0.00     0.0     0.0     0.0   \n",
       "\n",
       "     10      ...  161830  161918  161944  162376  162542  162672  163056  \\\n",
       "1      0.00  ...     0.0     0.0     0.0     0.0     0.0     0.0     0.0   \n",
       "2      3.49  ...     0.0     0.0     0.0     0.0     0.0     0.0     0.0   \n",
       "3      0.00  ...     0.0     0.0     0.0     0.0     0.0     0.0     0.0   \n",
       "4      4.35  ...     0.0     0.0     0.0     0.0     0.0     0.0     0.0   \n",
       "5      0.00  ...     0.0     0.0     0.0     0.0     0.0     0.0     0.0   \n",
       "..      ...  ...     ...     ...     ...     ...     ...     ...     ...   \n",
       "667    0.00  ...     0.0     0.0     0.0     0.0     0.0     0.0     0.0   \n",
       "668    0.00  ...     0.0     0.0     0.0     0.0     0.0     0.0     0.0   \n",
       "669    0.00  ...     0.0     0.0     0.0     0.0     0.0     0.0     0.0   \n",
       "670    0.00  ...     0.0     0.0     0.0     0.0     0.0     0.0     0.0   \n",
       "671    0.00  ...     0.0     0.0     0.0     0.0     0.0     0.0     0.0   \n",
       "\n",
       "     163949  164977  164979  \n",
       "1       0.0     0.0     0.0  \n",
       "2       0.0     0.0     0.0  \n",
       "3       0.0     0.0     0.0  \n",
       "4       0.0     0.0     0.0  \n",
       "5       0.0     0.0     0.0  \n",
       "..      ...     ...     ...  \n",
       "667     0.0     0.0     0.0  \n",
       "668     0.0     0.0     0.0  \n",
       "669     0.0     0.0     0.0  \n",
       "670     0.0     0.0     0.0  \n",
       "671     0.0     0.0     0.0  \n",
       "\n",
       "[671 rows x 9125 columns]"
      ]
     },
     "execution_count": 20,
     "metadata": {},
     "output_type": "execute_result"
    }
   ],
   "source": [
    "binDF.T.multiply(userAvgRatings['avg']).T"
   ]
  },
  {
   "cell_type": "code",
   "execution_count": 21,
   "metadata": {},
   "outputs": [
    {
     "data": {
      "text/html": [
       "<div>\n",
       "<style scoped>\n",
       "    .dataframe tbody tr th:only-of-type {\n",
       "        vertical-align: middle;\n",
       "    }\n",
       "\n",
       "    .dataframe tbody tr th {\n",
       "        vertical-align: top;\n",
       "    }\n",
       "\n",
       "    .dataframe thead th {\n",
       "        text-align: right;\n",
       "    }\n",
       "</style>\n",
       "<table border=\"1\" class=\"dataframe\">\n",
       "  <thead>\n",
       "    <tr style=\"text-align: right;\">\n",
       "      <th></th>\n",
       "      <th>1</th>\n",
       "      <th>2</th>\n",
       "      <th>3</th>\n",
       "      <th>4</th>\n",
       "      <th>5</th>\n",
       "      <th>6</th>\n",
       "      <th>7</th>\n",
       "      <th>8</th>\n",
       "      <th>9</th>\n",
       "      <th>10</th>\n",
       "      <th>...</th>\n",
       "      <th>161830</th>\n",
       "      <th>161918</th>\n",
       "      <th>161944</th>\n",
       "      <th>162376</th>\n",
       "      <th>162542</th>\n",
       "      <th>162672</th>\n",
       "      <th>163056</th>\n",
       "      <th>163949</th>\n",
       "      <th>164977</th>\n",
       "      <th>164979</th>\n",
       "    </tr>\n",
       "  </thead>\n",
       "  <tbody>\n",
       "    <tr>\n",
       "      <th>1</th>\n",
       "      <td>0.00</td>\n",
       "      <td>0.0</td>\n",
       "      <td>0.00</td>\n",
       "      <td>0.0</td>\n",
       "      <td>0.0</td>\n",
       "      <td>0.00</td>\n",
       "      <td>0.0</td>\n",
       "      <td>0.0</td>\n",
       "      <td>0.0</td>\n",
       "      <td>0.00</td>\n",
       "      <td>...</td>\n",
       "      <td>0.0</td>\n",
       "      <td>0.0</td>\n",
       "      <td>0.0</td>\n",
       "      <td>0.0</td>\n",
       "      <td>0.0</td>\n",
       "      <td>0.0</td>\n",
       "      <td>0.0</td>\n",
       "      <td>0.0</td>\n",
       "      <td>0.0</td>\n",
       "      <td>0.0</td>\n",
       "    </tr>\n",
       "    <tr>\n",
       "      <th>2</th>\n",
       "      <td>0.00</td>\n",
       "      <td>0.0</td>\n",
       "      <td>0.00</td>\n",
       "      <td>0.0</td>\n",
       "      <td>0.0</td>\n",
       "      <td>0.00</td>\n",
       "      <td>0.0</td>\n",
       "      <td>0.0</td>\n",
       "      <td>0.0</td>\n",
       "      <td>0.02</td>\n",
       "      <td>...</td>\n",
       "      <td>0.0</td>\n",
       "      <td>0.0</td>\n",
       "      <td>0.0</td>\n",
       "      <td>0.0</td>\n",
       "      <td>0.0</td>\n",
       "      <td>0.0</td>\n",
       "      <td>0.0</td>\n",
       "      <td>0.0</td>\n",
       "      <td>0.0</td>\n",
       "      <td>0.0</td>\n",
       "    </tr>\n",
       "    <tr>\n",
       "      <th>3</th>\n",
       "      <td>0.00</td>\n",
       "      <td>0.0</td>\n",
       "      <td>0.00</td>\n",
       "      <td>0.0</td>\n",
       "      <td>0.0</td>\n",
       "      <td>0.00</td>\n",
       "      <td>0.0</td>\n",
       "      <td>0.0</td>\n",
       "      <td>0.0</td>\n",
       "      <td>0.00</td>\n",
       "      <td>...</td>\n",
       "      <td>0.0</td>\n",
       "      <td>0.0</td>\n",
       "      <td>0.0</td>\n",
       "      <td>0.0</td>\n",
       "      <td>0.0</td>\n",
       "      <td>0.0</td>\n",
       "      <td>0.0</td>\n",
       "      <td>0.0</td>\n",
       "      <td>0.0</td>\n",
       "      <td>0.0</td>\n",
       "    </tr>\n",
       "    <tr>\n",
       "      <th>4</th>\n",
       "      <td>0.00</td>\n",
       "      <td>0.0</td>\n",
       "      <td>0.00</td>\n",
       "      <td>0.0</td>\n",
       "      <td>0.0</td>\n",
       "      <td>0.00</td>\n",
       "      <td>0.0</td>\n",
       "      <td>0.0</td>\n",
       "      <td>0.0</td>\n",
       "      <td>0.44</td>\n",
       "      <td>...</td>\n",
       "      <td>0.0</td>\n",
       "      <td>0.0</td>\n",
       "      <td>0.0</td>\n",
       "      <td>0.0</td>\n",
       "      <td>0.0</td>\n",
       "      <td>0.0</td>\n",
       "      <td>0.0</td>\n",
       "      <td>0.0</td>\n",
       "      <td>0.0</td>\n",
       "      <td>0.0</td>\n",
       "    </tr>\n",
       "    <tr>\n",
       "      <th>5</th>\n",
       "      <td>0.00</td>\n",
       "      <td>0.0</td>\n",
       "      <td>0.45</td>\n",
       "      <td>0.0</td>\n",
       "      <td>0.0</td>\n",
       "      <td>0.00</td>\n",
       "      <td>0.0</td>\n",
       "      <td>0.0</td>\n",
       "      <td>0.0</td>\n",
       "      <td>0.00</td>\n",
       "      <td>...</td>\n",
       "      <td>0.0</td>\n",
       "      <td>0.0</td>\n",
       "      <td>0.0</td>\n",
       "      <td>0.0</td>\n",
       "      <td>0.0</td>\n",
       "      <td>0.0</td>\n",
       "      <td>0.0</td>\n",
       "      <td>0.0</td>\n",
       "      <td>0.0</td>\n",
       "      <td>0.0</td>\n",
       "    </tr>\n",
       "    <tr>\n",
       "      <th>...</th>\n",
       "      <td>...</td>\n",
       "      <td>...</td>\n",
       "      <td>...</td>\n",
       "      <td>...</td>\n",
       "      <td>...</td>\n",
       "      <td>...</td>\n",
       "      <td>...</td>\n",
       "      <td>...</td>\n",
       "      <td>...</td>\n",
       "      <td>...</td>\n",
       "      <td>...</td>\n",
       "      <td>...</td>\n",
       "      <td>...</td>\n",
       "      <td>...</td>\n",
       "      <td>...</td>\n",
       "      <td>...</td>\n",
       "      <td>...</td>\n",
       "      <td>...</td>\n",
       "      <td>...</td>\n",
       "      <td>...</td>\n",
       "      <td>...</td>\n",
       "    </tr>\n",
       "    <tr>\n",
       "      <th>667</th>\n",
       "      <td>0.00</td>\n",
       "      <td>0.0</td>\n",
       "      <td>0.00</td>\n",
       "      <td>0.0</td>\n",
       "      <td>0.0</td>\n",
       "      <td>0.02</td>\n",
       "      <td>0.0</td>\n",
       "      <td>0.0</td>\n",
       "      <td>0.0</td>\n",
       "      <td>0.00</td>\n",
       "      <td>...</td>\n",
       "      <td>0.0</td>\n",
       "      <td>0.0</td>\n",
       "      <td>0.0</td>\n",
       "      <td>0.0</td>\n",
       "      <td>0.0</td>\n",
       "      <td>0.0</td>\n",
       "      <td>0.0</td>\n",
       "      <td>0.0</td>\n",
       "      <td>0.0</td>\n",
       "      <td>0.0</td>\n",
       "    </tr>\n",
       "    <tr>\n",
       "      <th>668</th>\n",
       "      <td>0.00</td>\n",
       "      <td>0.0</td>\n",
       "      <td>0.00</td>\n",
       "      <td>0.0</td>\n",
       "      <td>0.0</td>\n",
       "      <td>0.00</td>\n",
       "      <td>0.0</td>\n",
       "      <td>0.0</td>\n",
       "      <td>0.0</td>\n",
       "      <td>0.00</td>\n",
       "      <td>...</td>\n",
       "      <td>0.0</td>\n",
       "      <td>0.0</td>\n",
       "      <td>0.0</td>\n",
       "      <td>0.0</td>\n",
       "      <td>0.0</td>\n",
       "      <td>0.0</td>\n",
       "      <td>0.0</td>\n",
       "      <td>0.0</td>\n",
       "      <td>0.0</td>\n",
       "      <td>0.0</td>\n",
       "    </tr>\n",
       "    <tr>\n",
       "      <th>669</th>\n",
       "      <td>0.00</td>\n",
       "      <td>0.0</td>\n",
       "      <td>0.00</td>\n",
       "      <td>0.0</td>\n",
       "      <td>0.0</td>\n",
       "      <td>0.00</td>\n",
       "      <td>0.0</td>\n",
       "      <td>0.0</td>\n",
       "      <td>0.0</td>\n",
       "      <td>0.00</td>\n",
       "      <td>...</td>\n",
       "      <td>0.0</td>\n",
       "      <td>0.0</td>\n",
       "      <td>0.0</td>\n",
       "      <td>0.0</td>\n",
       "      <td>0.0</td>\n",
       "      <td>0.0</td>\n",
       "      <td>0.0</td>\n",
       "      <td>0.0</td>\n",
       "      <td>0.0</td>\n",
       "      <td>0.0</td>\n",
       "    </tr>\n",
       "    <tr>\n",
       "      <th>670</th>\n",
       "      <td>0.00</td>\n",
       "      <td>0.0</td>\n",
       "      <td>0.00</td>\n",
       "      <td>0.0</td>\n",
       "      <td>0.0</td>\n",
       "      <td>0.00</td>\n",
       "      <td>0.0</td>\n",
       "      <td>0.0</td>\n",
       "      <td>0.0</td>\n",
       "      <td>0.00</td>\n",
       "      <td>...</td>\n",
       "      <td>0.0</td>\n",
       "      <td>0.0</td>\n",
       "      <td>0.0</td>\n",
       "      <td>0.0</td>\n",
       "      <td>0.0</td>\n",
       "      <td>0.0</td>\n",
       "      <td>0.0</td>\n",
       "      <td>0.0</td>\n",
       "      <td>0.0</td>\n",
       "      <td>0.0</td>\n",
       "    </tr>\n",
       "    <tr>\n",
       "      <th>671</th>\n",
       "      <td>0.66</td>\n",
       "      <td>0.0</td>\n",
       "      <td>0.00</td>\n",
       "      <td>0.0</td>\n",
       "      <td>0.0</td>\n",
       "      <td>0.00</td>\n",
       "      <td>0.0</td>\n",
       "      <td>0.0</td>\n",
       "      <td>0.0</td>\n",
       "      <td>0.00</td>\n",
       "      <td>...</td>\n",
       "      <td>0.0</td>\n",
       "      <td>0.0</td>\n",
       "      <td>0.0</td>\n",
       "      <td>0.0</td>\n",
       "      <td>0.0</td>\n",
       "      <td>0.0</td>\n",
       "      <td>0.0</td>\n",
       "      <td>0.0</td>\n",
       "      <td>0.0</td>\n",
       "      <td>0.0</td>\n",
       "    </tr>\n",
       "  </tbody>\n",
       "</table>\n",
       "<p>671 rows × 9125 columns</p>\n",
       "</div>"
      ],
      "text/plain": [
       "     1       2       3       4       5       6       7       8       9       \\\n",
       "1      0.00     0.0    0.00     0.0     0.0    0.00     0.0     0.0     0.0   \n",
       "2      0.00     0.0    0.00     0.0     0.0    0.00     0.0     0.0     0.0   \n",
       "3      0.00     0.0    0.00     0.0     0.0    0.00     0.0     0.0     0.0   \n",
       "4      0.00     0.0    0.00     0.0     0.0    0.00     0.0     0.0     0.0   \n",
       "5      0.00     0.0    0.45     0.0     0.0    0.00     0.0     0.0     0.0   \n",
       "..      ...     ...     ...     ...     ...     ...     ...     ...     ...   \n",
       "667    0.00     0.0    0.00     0.0     0.0    0.02     0.0     0.0     0.0   \n",
       "668    0.00     0.0    0.00     0.0     0.0    0.00     0.0     0.0     0.0   \n",
       "669    0.00     0.0    0.00     0.0     0.0    0.00     0.0     0.0     0.0   \n",
       "670    0.00     0.0    0.00     0.0     0.0    0.00     0.0     0.0     0.0   \n",
       "671    0.66     0.0    0.00     0.0     0.0    0.00     0.0     0.0     0.0   \n",
       "\n",
       "     10      ...  161830  161918  161944  162376  162542  162672  163056  \\\n",
       "1      0.00  ...     0.0     0.0     0.0     0.0     0.0     0.0     0.0   \n",
       "2      0.02  ...     0.0     0.0     0.0     0.0     0.0     0.0     0.0   \n",
       "3      0.00  ...     0.0     0.0     0.0     0.0     0.0     0.0     0.0   \n",
       "4      0.44  ...     0.0     0.0     0.0     0.0     0.0     0.0     0.0   \n",
       "5      0.00  ...     0.0     0.0     0.0     0.0     0.0     0.0     0.0   \n",
       "..      ...  ...     ...     ...     ...     ...     ...     ...     ...   \n",
       "667    0.00  ...     0.0     0.0     0.0     0.0     0.0     0.0     0.0   \n",
       "668    0.00  ...     0.0     0.0     0.0     0.0     0.0     0.0     0.0   \n",
       "669    0.00  ...     0.0     0.0     0.0     0.0     0.0     0.0     0.0   \n",
       "670    0.00  ...     0.0     0.0     0.0     0.0     0.0     0.0     0.0   \n",
       "671    0.00  ...     0.0     0.0     0.0     0.0     0.0     0.0     0.0   \n",
       "\n",
       "     163949  164977  164979  \n",
       "1       0.0     0.0     0.0  \n",
       "2       0.0     0.0     0.0  \n",
       "3       0.0     0.0     0.0  \n",
       "4       0.0     0.0     0.0  \n",
       "5       0.0     0.0     0.0  \n",
       "..      ...     ...     ...  \n",
       "667     0.0     0.0     0.0  \n",
       "668     0.0     0.0     0.0  \n",
       "669     0.0     0.0     0.0  \n",
       "670     0.0     0.0     0.0  \n",
       "671     0.0     0.0     0.0  \n",
       "\n",
       "[671 rows x 9125 columns]"
      ]
     },
     "execution_count": 21,
     "metadata": {},
     "output_type": "execute_result"
    }
   ],
   "source": [
    "ratingDF.T.multiply(simUsers).T"
   ]
  },
  {
   "cell_type": "markdown",
   "metadata": {},
   "source": [
    "### Compute Errors (MAE, RMSE)"
   ]
  },
  {
   "cell_type": "code",
   "execution_count": 22,
   "metadata": {},
   "outputs": [
    {
     "name": "stdout",
     "output_type": "stream",
     "text": [
      "#5:\n",
      " MAE: 0.5459849184116438\n",
      "\n",
      "\n",
      "#6:\n",
      "RMSE: 0.6852932874692779\n",
      "\n",
      "\n"
     ]
    }
   ],
   "source": [
    "userTestRatings = pd.DataFrame(data=test[test['userId'] == userId])\n",
    "temp = userTestRatings.join(recItemRatings.loc[userTestRatings['movieId']], on='movieId')\n",
    "mae = (temp['rating'] - temp['prediction']).abs().mean()\n",
    "rmse = math.sqrt((temp['rating'] - temp['prediction']).pow(2).mean())\n",
    "print(\" MAE:\", mae)\n",
    "print(\"RMSE:\", rmse)"
   ]
  },
  {
   "cell_type": "code",
   "execution_count": 23,
   "metadata": {},
   "outputs": [
    {
     "data": {
      "text/html": [
       "<div>\n",
       "<style scoped>\n",
       "    .dataframe tbody tr th:only-of-type {\n",
       "        vertical-align: middle;\n",
       "    }\n",
       "\n",
       "    .dataframe tbody tr th {\n",
       "        vertical-align: top;\n",
       "    }\n",
       "\n",
       "    .dataframe thead th {\n",
       "        text-align: right;\n",
       "    }\n",
       "</style>\n",
       "<table border=\"1\" class=\"dataframe\">\n",
       "  <thead>\n",
       "    <tr style=\"text-align: right;\">\n",
       "      <th></th>\n",
       "      <th>userId</th>\n",
       "      <th>movieId</th>\n",
       "      <th>rating</th>\n",
       "      <th>prediction</th>\n",
       "    </tr>\n",
       "  </thead>\n",
       "  <tbody>\n",
       "    <tr>\n",
       "      <th>6187</th>\n",
       "      <td>33</td>\n",
       "      <td>1060</td>\n",
       "      <td>4.0</td>\n",
       "      <td>4.02</td>\n",
       "    </tr>\n",
       "    <tr>\n",
       "      <th>6198</th>\n",
       "      <td>33</td>\n",
       "      <td>1291</td>\n",
       "      <td>4.0</td>\n",
       "      <td>3.71</td>\n",
       "    </tr>\n",
       "    <tr>\n",
       "      <th>6199</th>\n",
       "      <td>33</td>\n",
       "      <td>1347</td>\n",
       "      <td>2.0</td>\n",
       "      <td>3.41</td>\n",
       "    </tr>\n",
       "    <tr>\n",
       "      <th>6208</th>\n",
       "      <td>33</td>\n",
       "      <td>1982</td>\n",
       "      <td>4.0</td>\n",
       "      <td>3.49</td>\n",
       "    </tr>\n",
       "    <tr>\n",
       "      <th>6212</th>\n",
       "      <td>33</td>\n",
       "      <td>2005</td>\n",
       "      <td>4.0</td>\n",
       "      <td>3.64</td>\n",
       "    </tr>\n",
       "    <tr>\n",
       "      <th>6215</th>\n",
       "      <td>33</td>\n",
       "      <td>2064</td>\n",
       "      <td>5.0</td>\n",
       "      <td>4.01</td>\n",
       "    </tr>\n",
       "    <tr>\n",
       "      <th>6257</th>\n",
       "      <td>33</td>\n",
       "      <td>3794</td>\n",
       "      <td>4.0</td>\n",
       "      <td>3.30</td>\n",
       "    </tr>\n",
       "    <tr>\n",
       "      <th>6292</th>\n",
       "      <td>33</td>\n",
       "      <td>4678</td>\n",
       "      <td>3.0</td>\n",
       "      <td>3.54</td>\n",
       "    </tr>\n",
       "    <tr>\n",
       "      <th>6303</th>\n",
       "      <td>33</td>\n",
       "      <td>4974</td>\n",
       "      <td>3.0</td>\n",
       "      <td>2.90</td>\n",
       "    </tr>\n",
       "  </tbody>\n",
       "</table>\n",
       "</div>"
      ],
      "text/plain": [
       "      userId  movieId  rating  prediction\n",
       "6187      33     1060     4.0        4.02\n",
       "6198      33     1291     4.0        3.71\n",
       "6199      33     1347     2.0        3.41\n",
       "6208      33     1982     4.0        3.49\n",
       "6212      33     2005     4.0        3.64\n",
       "6215      33     2064     5.0        4.01\n",
       "6257      33     3794     4.0        3.30\n",
       "6292      33     4678     3.0        3.54\n",
       "6303      33     4974     3.0        2.90"
      ]
     },
     "execution_count": 23,
     "metadata": {},
     "output_type": "execute_result"
    }
   ],
   "source": [
    "temp"
   ]
  }
 ],
 "metadata": {
  "kernelspec": {
   "display_name": "Python 3",
   "language": "python",
   "name": "python3"
  },
  "language_info": {
   "codemirror_mode": {
    "name": "ipython",
    "version": 3
   },
   "file_extension": ".py",
   "mimetype": "text/x-python",
   "name": "python",
   "nbconvert_exporter": "python",
   "pygments_lexer": "ipython3",
   "version": "3.10.5"
  }
 },
 "nbformat": 4,
 "nbformat_minor": 2
}
